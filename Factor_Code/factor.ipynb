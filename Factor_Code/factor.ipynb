{
 "cells": [
  {
   "cell_type": "code",
   "execution_count": 1,
   "id": "f1c876e6",
   "metadata": {
    "pycharm": {
     "name": "#%%\n"
    }
   },
   "outputs": [
    {
     "data": {
      "text/plain": "                code    Turn20  PctTurn20       STR        date\n0        000001.XSHE       NaN        NaN       NaN  2020-01-02\n1        000001.XSHE       NaN        NaN       NaN  2020-01-03\n2        000001.XSHE       NaN        NaN       NaN  2020-01-06\n3        000001.XSHE       NaN        NaN       NaN  2020-01-07\n4        000001.XSHE       NaN        NaN       NaN  2020-01-08\n...              ...       ...        ...       ...         ...\n4253855  689009.XSHG  0.838920   0.432636  0.460271  2023-11-24\n4253856  689009.XSHG  0.871365   0.498172  0.462728  2023-11-27\n4253857  689009.XSHG  0.907240   0.570637  0.450450  2023-11-28\n4253858  689009.XSHG  0.944350   0.652413  0.444356  2023-11-29\n4253859  689009.XSHG  0.969535   0.711786  0.423493  2023-11-30\n\n[4253860 rows x 5 columns]",
      "text/html": "<div>\n<style scoped>\n    .dataframe tbody tr th:only-of-type {\n        vertical-align: middle;\n    }\n\n    .dataframe tbody tr th {\n        vertical-align: top;\n    }\n\n    .dataframe thead th {\n        text-align: right;\n    }\n</style>\n<table border=\"1\" class=\"dataframe\">\n  <thead>\n    <tr style=\"text-align: right;\">\n      <th></th>\n      <th>code</th>\n      <th>Turn20</th>\n      <th>PctTurn20</th>\n      <th>STR</th>\n      <th>date</th>\n    </tr>\n  </thead>\n  <tbody>\n    <tr>\n      <th>0</th>\n      <td>000001.XSHE</td>\n      <td>NaN</td>\n      <td>NaN</td>\n      <td>NaN</td>\n      <td>2020-01-02</td>\n    </tr>\n    <tr>\n      <th>1</th>\n      <td>000001.XSHE</td>\n      <td>NaN</td>\n      <td>NaN</td>\n      <td>NaN</td>\n      <td>2020-01-03</td>\n    </tr>\n    <tr>\n      <th>2</th>\n      <td>000001.XSHE</td>\n      <td>NaN</td>\n      <td>NaN</td>\n      <td>NaN</td>\n      <td>2020-01-06</td>\n    </tr>\n    <tr>\n      <th>3</th>\n      <td>000001.XSHE</td>\n      <td>NaN</td>\n      <td>NaN</td>\n      <td>NaN</td>\n      <td>2020-01-07</td>\n    </tr>\n    <tr>\n      <th>4</th>\n      <td>000001.XSHE</td>\n      <td>NaN</td>\n      <td>NaN</td>\n      <td>NaN</td>\n      <td>2020-01-08</td>\n    </tr>\n    <tr>\n      <th>...</th>\n      <td>...</td>\n      <td>...</td>\n      <td>...</td>\n      <td>...</td>\n      <td>...</td>\n    </tr>\n    <tr>\n      <th>4253855</th>\n      <td>689009.XSHG</td>\n      <td>0.838920</td>\n      <td>0.432636</td>\n      <td>0.460271</td>\n      <td>2023-11-24</td>\n    </tr>\n    <tr>\n      <th>4253856</th>\n      <td>689009.XSHG</td>\n      <td>0.871365</td>\n      <td>0.498172</td>\n      <td>0.462728</td>\n      <td>2023-11-27</td>\n    </tr>\n    <tr>\n      <th>4253857</th>\n      <td>689009.XSHG</td>\n      <td>0.907240</td>\n      <td>0.570637</td>\n      <td>0.450450</td>\n      <td>2023-11-28</td>\n    </tr>\n    <tr>\n      <th>4253858</th>\n      <td>689009.XSHG</td>\n      <td>0.944350</td>\n      <td>0.652413</td>\n      <td>0.444356</td>\n      <td>2023-11-29</td>\n    </tr>\n    <tr>\n      <th>4253859</th>\n      <td>689009.XSHG</td>\n      <td>0.969535</td>\n      <td>0.711786</td>\n      <td>0.423493</td>\n      <td>2023-11-30</td>\n    </tr>\n  </tbody>\n</table>\n<p>4253860 rows × 5 columns</p>\n</div>"
     },
     "execution_count": 1,
     "metadata": {},
     "output_type": "execute_result"
    }
   ],
   "source": [
    "import pandas as pd\n",
    "import numpy as np\n",
    "from tqdm import tqdm\n",
    "import os\n",
    "import time\n",
    "import glob\n",
    "import warnings\n",
    "warnings.filterwarnings('ignore')\n",
    "\n",
    "\n",
    "#data\n",
    "path = \"/Users/apple/quant_course/week1/week1_3/factor/LiangWen\"\n",
    "all_files = glob.glob(path + \"/*.csv\")   #把所有的数据文件文件名读取在一起\n",
    "\n",
    "li = []\n",
    "\n",
    "\n",
    "for filename in all_files:\n",
    "    df = pd.read_csv(filename, index_col=None, header=0)\n",
    "    date = os.path.basename(filename)[:-4]\n",
    "    df['date'] = date\n",
    "    li.append(df)\n",
    "\n",
    "\n",
    "frame = pd.concat(li, axis=0, ignore_index=True)\n",
    "result_df = frame.sort_values(by=['code', 'date'], ascending=True)\n",
    "result_df = result_df.reset_index(drop=True)\n",
    "result_df"
   ]
  },
  {
   "cell_type": "code",
   "execution_count": null,
   "outputs": [],
   "source": [],
   "metadata": {
    "collapsed": false,
    "pycharm": {
     "name": "#%%\n"
    }
   }
  },
  {
   "cell_type": "code",
   "execution_count": 2,
   "id": "94e28ddf",
   "metadata": {
    "pycharm": {
     "name": "#%%\n"
    }
   },
   "outputs": [
    {
     "data": {
      "text/plain": "               date         code     open    close      low     high  \\\n0        2020-01-02  000001.XSHE  1976.78  2002.90  1964.91  2012.40   \n1        2020-01-03  000001.XSHE  2011.21  2039.71  2008.84  2055.14   \n2        2020-01-06  000001.XSHE  2019.52  2026.65  2007.65  2058.70   \n3        2020-01-07  000001.XSHE  2033.77  2036.14  2012.40  2051.58   \n4        2020-01-08  000001.XSHE  2018.34  1977.97  1974.41  2024.27   \n...             ...          ...      ...      ...      ...      ...   \n4253855  2023-11-24  689009.XSHG    34.88    35.28    34.88    35.88   \n4253856  2023-11-27  689009.XSHG    35.24    34.89    34.62    35.60   \n4253857  2023-11-28  689009.XSHG    34.90    34.36    34.01    35.17   \n4253858  2023-11-29  689009.XSHG    34.59    33.27    33.09    34.59   \n4253859  2023-11-30  689009.XSHG    33.39    33.10    32.63    33.39   \n\n             volume         money  turnover_ratio    volume_std  volume_mean  \\\n0         1288881.0  2.571196e+09          0.7885           NaN          NaN   \n1          940146.0  1.914495e+09          0.5752           NaN          NaN   \n2          726114.0  1.477930e+09          0.4442           NaN          NaN   \n3          613690.0  1.247047e+09          0.3755           NaN          NaN   \n4          714104.0  1.423609e+09          0.4369           NaN          NaN   \n...             ...           ...             ...           ...          ...   \n4253855  10815571.0  3.834648e+08          2.0661  2.409382e+06   4391589.15   \n4253856   6348515.0  2.225542e+08          1.2128  2.422234e+06   4561422.65   \n4253857   5755962.0  1.979950e+08          1.0996  2.357968e+06   4749198.95   \n4253858   6423819.0  2.155980e+08          1.2271  2.326078e+06   4943469.95   \n4253859   4540174.0  1.497706e+08          0.8673  2.216857e+06   5075312.60   \n\n                Z       ret  rank  \n0             NaN       NaN   NaN  \n1             NaN  0.018378   NaN  \n2             NaN -0.006403   NaN  \n3             NaN  0.004683   NaN  \n4             NaN -0.028569   NaN  \n...           ...       ...   ...  \n4253855  0.548636  0.020538  1.00  \n4253856  0.531026 -0.011054  0.85  \n4253857  0.496498 -0.015191  0.60  \n4253858  0.470535 -0.031723  0.40  \n4253859  0.436792 -0.005110  0.25  \n\n[4253860 rows x 14 columns]",
      "text/html": "<div>\n<style scoped>\n    .dataframe tbody tr th:only-of-type {\n        vertical-align: middle;\n    }\n\n    .dataframe tbody tr th {\n        vertical-align: top;\n    }\n\n    .dataframe thead th {\n        text-align: right;\n    }\n</style>\n<table border=\"1\" class=\"dataframe\">\n  <thead>\n    <tr style=\"text-align: right;\">\n      <th></th>\n      <th>date</th>\n      <th>code</th>\n      <th>open</th>\n      <th>close</th>\n      <th>low</th>\n      <th>high</th>\n      <th>volume</th>\n      <th>money</th>\n      <th>turnover_ratio</th>\n      <th>volume_std</th>\n      <th>volume_mean</th>\n      <th>Z</th>\n      <th>ret</th>\n      <th>rank</th>\n    </tr>\n  </thead>\n  <tbody>\n    <tr>\n      <th>0</th>\n      <td>2020-01-02</td>\n      <td>000001.XSHE</td>\n      <td>1976.78</td>\n      <td>2002.90</td>\n      <td>1964.91</td>\n      <td>2012.40</td>\n      <td>1288881.0</td>\n      <td>2.571196e+09</td>\n      <td>0.7885</td>\n      <td>NaN</td>\n      <td>NaN</td>\n      <td>NaN</td>\n      <td>NaN</td>\n      <td>NaN</td>\n    </tr>\n    <tr>\n      <th>1</th>\n      <td>2020-01-03</td>\n      <td>000001.XSHE</td>\n      <td>2011.21</td>\n      <td>2039.71</td>\n      <td>2008.84</td>\n      <td>2055.14</td>\n      <td>940146.0</td>\n      <td>1.914495e+09</td>\n      <td>0.5752</td>\n      <td>NaN</td>\n      <td>NaN</td>\n      <td>NaN</td>\n      <td>0.018378</td>\n      <td>NaN</td>\n    </tr>\n    <tr>\n      <th>2</th>\n      <td>2020-01-06</td>\n      <td>000001.XSHE</td>\n      <td>2019.52</td>\n      <td>2026.65</td>\n      <td>2007.65</td>\n      <td>2058.70</td>\n      <td>726114.0</td>\n      <td>1.477930e+09</td>\n      <td>0.4442</td>\n      <td>NaN</td>\n      <td>NaN</td>\n      <td>NaN</td>\n      <td>-0.006403</td>\n      <td>NaN</td>\n    </tr>\n    <tr>\n      <th>3</th>\n      <td>2020-01-07</td>\n      <td>000001.XSHE</td>\n      <td>2033.77</td>\n      <td>2036.14</td>\n      <td>2012.40</td>\n      <td>2051.58</td>\n      <td>613690.0</td>\n      <td>1.247047e+09</td>\n      <td>0.3755</td>\n      <td>NaN</td>\n      <td>NaN</td>\n      <td>NaN</td>\n      <td>0.004683</td>\n      <td>NaN</td>\n    </tr>\n    <tr>\n      <th>4</th>\n      <td>2020-01-08</td>\n      <td>000001.XSHE</td>\n      <td>2018.34</td>\n      <td>1977.97</td>\n      <td>1974.41</td>\n      <td>2024.27</td>\n      <td>714104.0</td>\n      <td>1.423609e+09</td>\n      <td>0.4369</td>\n      <td>NaN</td>\n      <td>NaN</td>\n      <td>NaN</td>\n      <td>-0.028569</td>\n      <td>NaN</td>\n    </tr>\n    <tr>\n      <th>...</th>\n      <td>...</td>\n      <td>...</td>\n      <td>...</td>\n      <td>...</td>\n      <td>...</td>\n      <td>...</td>\n      <td>...</td>\n      <td>...</td>\n      <td>...</td>\n      <td>...</td>\n      <td>...</td>\n      <td>...</td>\n      <td>...</td>\n      <td>...</td>\n    </tr>\n    <tr>\n      <th>4253855</th>\n      <td>2023-11-24</td>\n      <td>689009.XSHG</td>\n      <td>34.88</td>\n      <td>35.28</td>\n      <td>34.88</td>\n      <td>35.88</td>\n      <td>10815571.0</td>\n      <td>3.834648e+08</td>\n      <td>2.0661</td>\n      <td>2.409382e+06</td>\n      <td>4391589.15</td>\n      <td>0.548636</td>\n      <td>0.020538</td>\n      <td>1.00</td>\n    </tr>\n    <tr>\n      <th>4253856</th>\n      <td>2023-11-27</td>\n      <td>689009.XSHG</td>\n      <td>35.24</td>\n      <td>34.89</td>\n      <td>34.62</td>\n      <td>35.60</td>\n      <td>6348515.0</td>\n      <td>2.225542e+08</td>\n      <td>1.2128</td>\n      <td>2.422234e+06</td>\n      <td>4561422.65</td>\n      <td>0.531026</td>\n      <td>-0.011054</td>\n      <td>0.85</td>\n    </tr>\n    <tr>\n      <th>4253857</th>\n      <td>2023-11-28</td>\n      <td>689009.XSHG</td>\n      <td>34.90</td>\n      <td>34.36</td>\n      <td>34.01</td>\n      <td>35.17</td>\n      <td>5755962.0</td>\n      <td>1.979950e+08</td>\n      <td>1.0996</td>\n      <td>2.357968e+06</td>\n      <td>4749198.95</td>\n      <td>0.496498</td>\n      <td>-0.015191</td>\n      <td>0.60</td>\n    </tr>\n    <tr>\n      <th>4253858</th>\n      <td>2023-11-29</td>\n      <td>689009.XSHG</td>\n      <td>34.59</td>\n      <td>33.27</td>\n      <td>33.09</td>\n      <td>34.59</td>\n      <td>6423819.0</td>\n      <td>2.155980e+08</td>\n      <td>1.2271</td>\n      <td>2.326078e+06</td>\n      <td>4943469.95</td>\n      <td>0.470535</td>\n      <td>-0.031723</td>\n      <td>0.40</td>\n    </tr>\n    <tr>\n      <th>4253859</th>\n      <td>2023-11-30</td>\n      <td>689009.XSHG</td>\n      <td>33.39</td>\n      <td>33.10</td>\n      <td>32.63</td>\n      <td>33.39</td>\n      <td>4540174.0</td>\n      <td>1.497706e+08</td>\n      <td>0.8673</td>\n      <td>2.216857e+06</td>\n      <td>5075312.60</td>\n      <td>0.436792</td>\n      <td>-0.005110</td>\n      <td>0.25</td>\n    </tr>\n  </tbody>\n</table>\n<p>4253860 rows × 14 columns</p>\n</div>"
     },
     "execution_count": 2,
     "metadata": {},
     "output_type": "execute_result"
    }
   ],
   "source": [
    "df = result_df.copy()\n",
    "df['volume_std'] = df.groupby('code')['volume'].transform(lambda x:x.rolling(window=20).std())\n",
    "df['volume_mean'] = df.groupby('code')['volume'].transform(lambda x:x.rolling(window=20).mean())\n",
    "df['Z'] = df['volume_std'] / df['volume_mean']\n",
    "df['ret'] = df['close'] / df.groupby('code')['close'].shift(1) - 1\n",
    "df['rank'] = df.groupby('code')['Z'].transform(lambda x: x.rolling(window=20).rank(pct=True))\n",
    "df"
   ]
  },
  {
   "cell_type": "code",
   "execution_count": 3,
   "id": "1e2e5395",
   "metadata": {
    "pycharm": {
     "name": "#%%\n"
    }
   },
   "outputs": [
    {
     "data": {
      "text/plain": "               date         code     open    close      low     high  \\\n0        2020-01-02  000001.XSHE  1976.78  2002.90  1964.91  2012.40   \n1        2020-01-03  000001.XSHE  2011.21  2039.71  2008.84  2055.14   \n2        2020-01-06  000001.XSHE  2019.52  2026.65  2007.65  2058.70   \n3        2020-01-07  000001.XSHE  2033.77  2036.14  2012.40  2051.58   \n4        2020-01-08  000001.XSHE  2018.34  1977.97  1974.41  2024.27   \n...             ...          ...      ...      ...      ...      ...   \n4253855  2023-11-24  689009.XSHG    34.88    35.28    34.88    35.88   \n4253856  2023-11-27  689009.XSHG    35.24    34.89    34.62    35.60   \n4253857  2023-11-28  689009.XSHG    34.90    34.36    34.01    35.17   \n4253858  2023-11-29  689009.XSHG    34.59    33.27    33.09    34.59   \n4253859  2023-11-30  689009.XSHG    33.39    33.10    32.63    33.39   \n\n             volume         money  turnover_ratio    Turn20  \n0         1288881.0  2.571196e+09          0.7885       NaN  \n1          940146.0  1.914495e+09          0.5752       NaN  \n2          726114.0  1.477930e+09          0.4442       NaN  \n3          613690.0  1.247047e+09          0.3755       NaN  \n4          714104.0  1.423609e+09          0.4369       NaN  \n...             ...           ...             ...       ...  \n4253855  10815571.0  3.834648e+08          2.0661  0.838920  \n4253856   6348515.0  2.225542e+08          1.2128  0.871365  \n4253857   5755962.0  1.979950e+08          1.0996  0.907240  \n4253858   6423819.0  2.155980e+08          1.2271  0.944350  \n4253859   4540174.0  1.497706e+08          0.8673  0.969535  \n\n[4253860 rows x 10 columns]",
      "text/html": "<div>\n<style scoped>\n    .dataframe tbody tr th:only-of-type {\n        vertical-align: middle;\n    }\n\n    .dataframe tbody tr th {\n        vertical-align: top;\n    }\n\n    .dataframe thead th {\n        text-align: right;\n    }\n</style>\n<table border=\"1\" class=\"dataframe\">\n  <thead>\n    <tr style=\"text-align: right;\">\n      <th></th>\n      <th>date</th>\n      <th>code</th>\n      <th>open</th>\n      <th>close</th>\n      <th>low</th>\n      <th>high</th>\n      <th>volume</th>\n      <th>money</th>\n      <th>turnover_ratio</th>\n      <th>Turn20</th>\n    </tr>\n  </thead>\n  <tbody>\n    <tr>\n      <th>0</th>\n      <td>2020-01-02</td>\n      <td>000001.XSHE</td>\n      <td>1976.78</td>\n      <td>2002.90</td>\n      <td>1964.91</td>\n      <td>2012.40</td>\n      <td>1288881.0</td>\n      <td>2.571196e+09</td>\n      <td>0.7885</td>\n      <td>NaN</td>\n    </tr>\n    <tr>\n      <th>1</th>\n      <td>2020-01-03</td>\n      <td>000001.XSHE</td>\n      <td>2011.21</td>\n      <td>2039.71</td>\n      <td>2008.84</td>\n      <td>2055.14</td>\n      <td>940146.0</td>\n      <td>1.914495e+09</td>\n      <td>0.5752</td>\n      <td>NaN</td>\n    </tr>\n    <tr>\n      <th>2</th>\n      <td>2020-01-06</td>\n      <td>000001.XSHE</td>\n      <td>2019.52</td>\n      <td>2026.65</td>\n      <td>2007.65</td>\n      <td>2058.70</td>\n      <td>726114.0</td>\n      <td>1.477930e+09</td>\n      <td>0.4442</td>\n      <td>NaN</td>\n    </tr>\n    <tr>\n      <th>3</th>\n      <td>2020-01-07</td>\n      <td>000001.XSHE</td>\n      <td>2033.77</td>\n      <td>2036.14</td>\n      <td>2012.40</td>\n      <td>2051.58</td>\n      <td>613690.0</td>\n      <td>1.247047e+09</td>\n      <td>0.3755</td>\n      <td>NaN</td>\n    </tr>\n    <tr>\n      <th>4</th>\n      <td>2020-01-08</td>\n      <td>000001.XSHE</td>\n      <td>2018.34</td>\n      <td>1977.97</td>\n      <td>1974.41</td>\n      <td>2024.27</td>\n      <td>714104.0</td>\n      <td>1.423609e+09</td>\n      <td>0.4369</td>\n      <td>NaN</td>\n    </tr>\n    <tr>\n      <th>...</th>\n      <td>...</td>\n      <td>...</td>\n      <td>...</td>\n      <td>...</td>\n      <td>...</td>\n      <td>...</td>\n      <td>...</td>\n      <td>...</td>\n      <td>...</td>\n      <td>...</td>\n    </tr>\n    <tr>\n      <th>4253855</th>\n      <td>2023-11-24</td>\n      <td>689009.XSHG</td>\n      <td>34.88</td>\n      <td>35.28</td>\n      <td>34.88</td>\n      <td>35.88</td>\n      <td>10815571.0</td>\n      <td>3.834648e+08</td>\n      <td>2.0661</td>\n      <td>0.838920</td>\n    </tr>\n    <tr>\n      <th>4253856</th>\n      <td>2023-11-27</td>\n      <td>689009.XSHG</td>\n      <td>35.24</td>\n      <td>34.89</td>\n      <td>34.62</td>\n      <td>35.60</td>\n      <td>6348515.0</td>\n      <td>2.225542e+08</td>\n      <td>1.2128</td>\n      <td>0.871365</td>\n    </tr>\n    <tr>\n      <th>4253857</th>\n      <td>2023-11-28</td>\n      <td>689009.XSHG</td>\n      <td>34.90</td>\n      <td>34.36</td>\n      <td>34.01</td>\n      <td>35.17</td>\n      <td>5755962.0</td>\n      <td>1.979950e+08</td>\n      <td>1.0996</td>\n      <td>0.907240</td>\n    </tr>\n    <tr>\n      <th>4253858</th>\n      <td>2023-11-29</td>\n      <td>689009.XSHG</td>\n      <td>34.59</td>\n      <td>33.27</td>\n      <td>33.09</td>\n      <td>34.59</td>\n      <td>6423819.0</td>\n      <td>2.155980e+08</td>\n      <td>1.2271</td>\n      <td>0.944350</td>\n    </tr>\n    <tr>\n      <th>4253859</th>\n      <td>2023-11-30</td>\n      <td>689009.XSHG</td>\n      <td>33.39</td>\n      <td>33.10</td>\n      <td>32.63</td>\n      <td>33.39</td>\n      <td>4540174.0</td>\n      <td>1.497706e+08</td>\n      <td>0.8673</td>\n      <td>0.969535</td>\n    </tr>\n  </tbody>\n</table>\n<p>4253860 rows × 10 columns</p>\n</div>"
     },
     "execution_count": 3,
     "metadata": {},
     "output_type": "execute_result"
    }
   ],
   "source": [
    "result_df['Turn20'] = result_df.groupby('code')['turnover_ratio'].transform(lambda x: x.rolling(window=20).mean())\n",
    "result_df"
   ]
  },
  {
   "cell_type": "code",
   "execution_count": null,
   "id": "5199836d",
   "metadata": {
    "pycharm": {
     "name": "#%%\n"
    }
   },
   "outputs": [],
   "source": []
  },
  {
   "cell_type": "code",
   "execution_count": 4,
   "id": "c99d4165",
   "metadata": {
    "pycharm": {
     "name": "#%%\n"
    }
   },
   "outputs": [],
   "source": [
    "df = result_df.copy()\n",
    "df['tmp1'] = df.groupby('code')['turnover_ratio'].transform(lambda x: x.rolling(window=60).sum())\n",
    "df['tmp2'] = df.groupby('code')['turnover_ratio'].transform(lambda x: x.rolling(window=20).sum())\n",
    "df['tmp'] = (df['tmp1'] - df['tmp2']) / 40\n",
    "df['tmp'] = df['turnover_ratio'] / df['tmp'] - 1\n",
    "result_df['PctTurn20'] = df.groupby('code')['tmp'].transform(lambda x: x.rolling(window=20).mean())"
   ]
  },
  {
   "cell_type": "code",
   "execution_count": 5,
   "id": "2c905388",
   "metadata": {
    "pycharm": {
     "name": "#%%\n"
    }
   },
   "outputs": [],
   "source": [
    "df = result_df.copy()\n",
    "result_df['STR'] = df.groupby('code')['turnover_ratio'].transform(lambda x: x.rolling(window=20).std())"
   ]
  },
  {
   "cell_type": "code",
   "execution_count": 6,
   "outputs": [
    {
     "data": {
      "text/plain": "                code        date    Turn20  PctTurn20       STR\n0        000001.XSHE  2020-01-02       NaN        NaN       NaN\n1        000001.XSHE  2020-01-03       NaN        NaN       NaN\n2        000001.XSHE  2020-01-06       NaN        NaN       NaN\n3        000001.XSHE  2020-01-07       NaN        NaN       NaN\n4        000001.XSHE  2020-01-08       NaN        NaN       NaN\n...              ...         ...       ...        ...       ...\n4253855  689009.XSHG  2023-11-24  0.838920   0.432636  0.460271\n4253856  689009.XSHG  2023-11-27  0.871365   0.498172  0.462728\n4253857  689009.XSHG  2023-11-28  0.907240   0.570637  0.450450\n4253858  689009.XSHG  2023-11-29  0.944350   0.652413  0.444356\n4253859  689009.XSHG  2023-11-30  0.969535   0.711786  0.423493\n\n[4253860 rows x 5 columns]",
      "text/html": "<div>\n<style scoped>\n    .dataframe tbody tr th:only-of-type {\n        vertical-align: middle;\n    }\n\n    .dataframe tbody tr th {\n        vertical-align: top;\n    }\n\n    .dataframe thead th {\n        text-align: right;\n    }\n</style>\n<table border=\"1\" class=\"dataframe\">\n  <thead>\n    <tr style=\"text-align: right;\">\n      <th></th>\n      <th>code</th>\n      <th>date</th>\n      <th>Turn20</th>\n      <th>PctTurn20</th>\n      <th>STR</th>\n    </tr>\n  </thead>\n  <tbody>\n    <tr>\n      <th>0</th>\n      <td>000001.XSHE</td>\n      <td>2020-01-02</td>\n      <td>NaN</td>\n      <td>NaN</td>\n      <td>NaN</td>\n    </tr>\n    <tr>\n      <th>1</th>\n      <td>000001.XSHE</td>\n      <td>2020-01-03</td>\n      <td>NaN</td>\n      <td>NaN</td>\n      <td>NaN</td>\n    </tr>\n    <tr>\n      <th>2</th>\n      <td>000001.XSHE</td>\n      <td>2020-01-06</td>\n      <td>NaN</td>\n      <td>NaN</td>\n      <td>NaN</td>\n    </tr>\n    <tr>\n      <th>3</th>\n      <td>000001.XSHE</td>\n      <td>2020-01-07</td>\n      <td>NaN</td>\n      <td>NaN</td>\n      <td>NaN</td>\n    </tr>\n    <tr>\n      <th>4</th>\n      <td>000001.XSHE</td>\n      <td>2020-01-08</td>\n      <td>NaN</td>\n      <td>NaN</td>\n      <td>NaN</td>\n    </tr>\n    <tr>\n      <th>...</th>\n      <td>...</td>\n      <td>...</td>\n      <td>...</td>\n      <td>...</td>\n      <td>...</td>\n    </tr>\n    <tr>\n      <th>4253855</th>\n      <td>689009.XSHG</td>\n      <td>2023-11-24</td>\n      <td>0.838920</td>\n      <td>0.432636</td>\n      <td>0.460271</td>\n    </tr>\n    <tr>\n      <th>4253856</th>\n      <td>689009.XSHG</td>\n      <td>2023-11-27</td>\n      <td>0.871365</td>\n      <td>0.498172</td>\n      <td>0.462728</td>\n    </tr>\n    <tr>\n      <th>4253857</th>\n      <td>689009.XSHG</td>\n      <td>2023-11-28</td>\n      <td>0.907240</td>\n      <td>0.570637</td>\n      <td>0.450450</td>\n    </tr>\n    <tr>\n      <th>4253858</th>\n      <td>689009.XSHG</td>\n      <td>2023-11-29</td>\n      <td>0.944350</td>\n      <td>0.652413</td>\n      <td>0.444356</td>\n    </tr>\n    <tr>\n      <th>4253859</th>\n      <td>689009.XSHG</td>\n      <td>2023-11-30</td>\n      <td>0.969535</td>\n      <td>0.711786</td>\n      <td>0.423493</td>\n    </tr>\n  </tbody>\n</table>\n<p>4253860 rows × 5 columns</p>\n</div>"
     },
     "execution_count": 6,
     "metadata": {},
     "output_type": "execute_result"
    }
   ],
   "source": [
    "output_df = result_df[['code','date','Turn20','PctTurn20','STR']]\n",
    "output_df.sort_values(by=['date','code'],ascending=True)\n",
    "output_df"
   ],
   "metadata": {
    "collapsed": false,
    "pycharm": {
     "name": "#%%\n"
    }
   }
  },
  {
   "cell_type": "code",
   "execution_count": 57,
   "outputs": [],
   "source": [
    "output_folder = '/Users/apple/Desktop/week1_1.1/week1_3/new_feature/LiangWen'\n",
    "select_columns = ['code', 'Turn20','PctTurn20','STR']\n",
    "os.makedirs(output_folder,exist_ok=True)\n",
    "#result_df['date']=pd.to_datetime(result_df['date'])\n",
    "\n",
    "date_index = pd.date_range(result_df['date'].min(), result_df['date'].max(),freq='D')\n",
    "exist_date = [d for d in date_index if str(d)[:10] in result_df['date'].values]\n",
    "\n"
   ],
   "metadata": {
    "collapsed": false,
    "pycharm": {
     "name": "#%%\n"
    }
   }
  },
  {
   "cell_type": "code",
   "execution_count": 58,
   "outputs": [
    {
     "data": {
      "text/plain": "[Timestamp('2020-01-02 00:00:00'),\n Timestamp('2020-01-03 00:00:00'),\n Timestamp('2020-01-06 00:00:00'),\n Timestamp('2020-01-07 00:00:00'),\n Timestamp('2020-01-08 00:00:00'),\n Timestamp('2020-01-09 00:00:00'),\n Timestamp('2020-01-10 00:00:00'),\n Timestamp('2020-01-13 00:00:00'),\n Timestamp('2020-01-14 00:00:00'),\n Timestamp('2020-01-15 00:00:00'),\n Timestamp('2020-01-16 00:00:00'),\n Timestamp('2020-01-17 00:00:00'),\n Timestamp('2020-01-20 00:00:00'),\n Timestamp('2020-01-21 00:00:00'),\n Timestamp('2020-01-22 00:00:00'),\n Timestamp('2020-01-23 00:00:00'),\n Timestamp('2020-02-03 00:00:00'),\n Timestamp('2020-02-04 00:00:00'),\n Timestamp('2020-02-05 00:00:00'),\n Timestamp('2020-02-06 00:00:00'),\n Timestamp('2020-02-07 00:00:00'),\n Timestamp('2020-02-10 00:00:00'),\n Timestamp('2020-02-11 00:00:00'),\n Timestamp('2020-02-12 00:00:00'),\n Timestamp('2020-02-13 00:00:00'),\n Timestamp('2020-02-14 00:00:00'),\n Timestamp('2020-02-17 00:00:00'),\n Timestamp('2020-02-18 00:00:00'),\n Timestamp('2020-02-19 00:00:00'),\n Timestamp('2020-02-20 00:00:00'),\n Timestamp('2020-02-21 00:00:00'),\n Timestamp('2020-02-24 00:00:00'),\n Timestamp('2020-02-25 00:00:00'),\n Timestamp('2020-02-26 00:00:00'),\n Timestamp('2020-02-27 00:00:00'),\n Timestamp('2020-02-28 00:00:00'),\n Timestamp('2020-03-02 00:00:00'),\n Timestamp('2020-03-03 00:00:00'),\n Timestamp('2020-03-04 00:00:00'),\n Timestamp('2020-03-05 00:00:00'),\n Timestamp('2020-03-06 00:00:00'),\n Timestamp('2020-03-09 00:00:00'),\n Timestamp('2020-03-10 00:00:00'),\n Timestamp('2020-03-11 00:00:00'),\n Timestamp('2020-03-12 00:00:00'),\n Timestamp('2020-03-13 00:00:00'),\n Timestamp('2020-03-16 00:00:00'),\n Timestamp('2020-03-17 00:00:00'),\n Timestamp('2020-03-18 00:00:00'),\n Timestamp('2020-03-19 00:00:00'),\n Timestamp('2020-03-20 00:00:00'),\n Timestamp('2020-03-23 00:00:00'),\n Timestamp('2020-03-24 00:00:00'),\n Timestamp('2020-03-25 00:00:00'),\n Timestamp('2020-03-26 00:00:00'),\n Timestamp('2020-03-27 00:00:00'),\n Timestamp('2020-03-30 00:00:00'),\n Timestamp('2020-03-31 00:00:00'),\n Timestamp('2020-04-01 00:00:00'),\n Timestamp('2020-04-02 00:00:00'),\n Timestamp('2020-04-03 00:00:00'),\n Timestamp('2020-04-07 00:00:00'),\n Timestamp('2020-04-08 00:00:00'),\n Timestamp('2020-04-09 00:00:00'),\n Timestamp('2020-04-10 00:00:00'),\n Timestamp('2020-04-13 00:00:00'),\n Timestamp('2020-04-14 00:00:00'),\n Timestamp('2020-04-15 00:00:00'),\n Timestamp('2020-04-16 00:00:00'),\n Timestamp('2020-04-17 00:00:00'),\n Timestamp('2020-04-20 00:00:00'),\n Timestamp('2020-04-21 00:00:00'),\n Timestamp('2020-04-22 00:00:00'),\n Timestamp('2020-04-23 00:00:00'),\n Timestamp('2020-04-24 00:00:00'),\n Timestamp('2020-04-27 00:00:00'),\n Timestamp('2020-04-28 00:00:00'),\n Timestamp('2020-04-29 00:00:00'),\n Timestamp('2020-04-30 00:00:00'),\n Timestamp('2020-05-06 00:00:00'),\n Timestamp('2020-05-07 00:00:00'),\n Timestamp('2020-05-08 00:00:00'),\n Timestamp('2020-05-11 00:00:00'),\n Timestamp('2020-05-12 00:00:00'),\n Timestamp('2020-05-13 00:00:00'),\n Timestamp('2020-05-14 00:00:00'),\n Timestamp('2020-05-15 00:00:00'),\n Timestamp('2020-05-18 00:00:00'),\n Timestamp('2020-05-19 00:00:00'),\n Timestamp('2020-05-20 00:00:00'),\n Timestamp('2020-05-21 00:00:00'),\n Timestamp('2020-05-22 00:00:00'),\n Timestamp('2020-05-25 00:00:00'),\n Timestamp('2020-05-26 00:00:00'),\n Timestamp('2020-05-27 00:00:00'),\n Timestamp('2020-05-28 00:00:00'),\n Timestamp('2020-05-29 00:00:00'),\n Timestamp('2020-06-01 00:00:00'),\n Timestamp('2020-06-02 00:00:00'),\n Timestamp('2020-06-03 00:00:00'),\n Timestamp('2020-06-04 00:00:00'),\n Timestamp('2020-06-05 00:00:00'),\n Timestamp('2020-06-08 00:00:00'),\n Timestamp('2020-06-09 00:00:00'),\n Timestamp('2020-06-10 00:00:00'),\n Timestamp('2020-06-11 00:00:00'),\n Timestamp('2020-06-12 00:00:00'),\n Timestamp('2020-06-15 00:00:00'),\n Timestamp('2020-06-16 00:00:00'),\n Timestamp('2020-06-17 00:00:00'),\n Timestamp('2020-06-18 00:00:00'),\n Timestamp('2020-06-19 00:00:00'),\n Timestamp('2020-06-22 00:00:00'),\n Timestamp('2020-06-23 00:00:00'),\n Timestamp('2020-06-24 00:00:00'),\n Timestamp('2020-06-29 00:00:00'),\n Timestamp('2020-06-30 00:00:00'),\n Timestamp('2020-07-01 00:00:00'),\n Timestamp('2020-07-02 00:00:00'),\n Timestamp('2020-07-03 00:00:00'),\n Timestamp('2020-07-06 00:00:00'),\n Timestamp('2020-07-07 00:00:00'),\n Timestamp('2020-07-08 00:00:00'),\n Timestamp('2020-07-09 00:00:00'),\n Timestamp('2020-07-10 00:00:00'),\n Timestamp('2020-07-13 00:00:00'),\n Timestamp('2020-07-14 00:00:00'),\n Timestamp('2020-07-15 00:00:00'),\n Timestamp('2020-07-16 00:00:00'),\n Timestamp('2020-07-17 00:00:00'),\n Timestamp('2020-07-20 00:00:00'),\n Timestamp('2020-07-21 00:00:00'),\n Timestamp('2020-07-22 00:00:00'),\n Timestamp('2020-07-23 00:00:00'),\n Timestamp('2020-07-24 00:00:00'),\n Timestamp('2020-07-27 00:00:00'),\n Timestamp('2020-07-28 00:00:00'),\n Timestamp('2020-07-29 00:00:00'),\n Timestamp('2020-07-30 00:00:00'),\n Timestamp('2020-07-31 00:00:00'),\n Timestamp('2020-08-03 00:00:00'),\n Timestamp('2020-08-04 00:00:00'),\n Timestamp('2020-08-05 00:00:00'),\n Timestamp('2020-08-06 00:00:00'),\n Timestamp('2020-08-07 00:00:00'),\n Timestamp('2020-08-10 00:00:00'),\n Timestamp('2020-08-11 00:00:00'),\n Timestamp('2020-08-12 00:00:00'),\n Timestamp('2020-08-13 00:00:00'),\n Timestamp('2020-08-14 00:00:00'),\n Timestamp('2020-08-17 00:00:00'),\n Timestamp('2020-08-18 00:00:00'),\n Timestamp('2020-08-19 00:00:00'),\n Timestamp('2020-08-20 00:00:00'),\n Timestamp('2020-08-21 00:00:00'),\n Timestamp('2020-08-24 00:00:00'),\n Timestamp('2020-08-25 00:00:00'),\n Timestamp('2020-08-26 00:00:00'),\n Timestamp('2020-08-27 00:00:00'),\n Timestamp('2020-08-28 00:00:00'),\n Timestamp('2020-08-31 00:00:00'),\n Timestamp('2020-09-01 00:00:00'),\n Timestamp('2020-09-02 00:00:00'),\n Timestamp('2020-09-03 00:00:00'),\n Timestamp('2020-09-04 00:00:00'),\n Timestamp('2020-09-07 00:00:00'),\n Timestamp('2020-09-08 00:00:00'),\n Timestamp('2020-09-09 00:00:00'),\n Timestamp('2020-09-10 00:00:00'),\n Timestamp('2020-09-11 00:00:00'),\n Timestamp('2020-09-14 00:00:00'),\n Timestamp('2020-09-15 00:00:00'),\n Timestamp('2020-09-16 00:00:00'),\n Timestamp('2020-09-17 00:00:00'),\n Timestamp('2020-09-18 00:00:00'),\n Timestamp('2020-09-21 00:00:00'),\n Timestamp('2020-09-22 00:00:00'),\n Timestamp('2020-09-23 00:00:00'),\n Timestamp('2020-09-24 00:00:00'),\n Timestamp('2020-09-25 00:00:00'),\n Timestamp('2020-09-28 00:00:00'),\n Timestamp('2020-09-29 00:00:00'),\n Timestamp('2020-09-30 00:00:00'),\n Timestamp('2020-10-09 00:00:00'),\n Timestamp('2020-10-12 00:00:00'),\n Timestamp('2020-10-13 00:00:00'),\n Timestamp('2020-10-14 00:00:00'),\n Timestamp('2020-10-15 00:00:00'),\n Timestamp('2020-10-16 00:00:00'),\n Timestamp('2020-10-19 00:00:00'),\n Timestamp('2020-10-20 00:00:00'),\n Timestamp('2020-10-21 00:00:00'),\n Timestamp('2020-10-22 00:00:00'),\n Timestamp('2020-10-23 00:00:00'),\n Timestamp('2020-10-26 00:00:00'),\n Timestamp('2020-10-27 00:00:00'),\n Timestamp('2020-10-28 00:00:00'),\n Timestamp('2020-10-29 00:00:00'),\n Timestamp('2020-10-30 00:00:00'),\n Timestamp('2020-11-02 00:00:00'),\n Timestamp('2020-11-03 00:00:00'),\n Timestamp('2020-11-04 00:00:00'),\n Timestamp('2020-11-05 00:00:00'),\n Timestamp('2020-11-06 00:00:00'),\n Timestamp('2020-11-09 00:00:00'),\n Timestamp('2020-11-10 00:00:00'),\n Timestamp('2020-11-11 00:00:00'),\n Timestamp('2020-11-12 00:00:00'),\n Timestamp('2020-11-13 00:00:00'),\n Timestamp('2020-11-16 00:00:00'),\n Timestamp('2020-11-17 00:00:00'),\n Timestamp('2020-11-18 00:00:00'),\n Timestamp('2020-11-19 00:00:00'),\n Timestamp('2020-11-20 00:00:00'),\n Timestamp('2020-11-23 00:00:00'),\n Timestamp('2020-11-24 00:00:00'),\n Timestamp('2020-11-25 00:00:00'),\n Timestamp('2020-11-26 00:00:00'),\n Timestamp('2020-11-27 00:00:00'),\n Timestamp('2020-11-30 00:00:00'),\n Timestamp('2020-12-01 00:00:00'),\n Timestamp('2020-12-02 00:00:00'),\n Timestamp('2020-12-03 00:00:00'),\n Timestamp('2020-12-04 00:00:00'),\n Timestamp('2020-12-07 00:00:00'),\n Timestamp('2020-12-08 00:00:00'),\n Timestamp('2020-12-09 00:00:00'),\n Timestamp('2020-12-10 00:00:00'),\n Timestamp('2020-12-11 00:00:00'),\n Timestamp('2020-12-14 00:00:00'),\n Timestamp('2020-12-15 00:00:00'),\n Timestamp('2020-12-16 00:00:00'),\n Timestamp('2020-12-17 00:00:00'),\n Timestamp('2020-12-18 00:00:00'),\n Timestamp('2020-12-21 00:00:00'),\n Timestamp('2020-12-22 00:00:00'),\n Timestamp('2020-12-23 00:00:00'),\n Timestamp('2020-12-24 00:00:00'),\n Timestamp('2020-12-25 00:00:00'),\n Timestamp('2020-12-28 00:00:00'),\n Timestamp('2020-12-29 00:00:00'),\n Timestamp('2020-12-30 00:00:00'),\n Timestamp('2020-12-31 00:00:00'),\n Timestamp('2021-01-04 00:00:00'),\n Timestamp('2021-01-05 00:00:00'),\n Timestamp('2021-01-06 00:00:00'),\n Timestamp('2021-01-07 00:00:00'),\n Timestamp('2021-01-08 00:00:00'),\n Timestamp('2021-01-11 00:00:00'),\n Timestamp('2021-01-12 00:00:00'),\n Timestamp('2021-01-13 00:00:00'),\n Timestamp('2021-01-14 00:00:00'),\n Timestamp('2021-01-15 00:00:00'),\n Timestamp('2021-01-18 00:00:00'),\n Timestamp('2021-01-19 00:00:00'),\n Timestamp('2021-01-20 00:00:00'),\n Timestamp('2021-01-21 00:00:00'),\n Timestamp('2021-01-22 00:00:00'),\n Timestamp('2021-01-25 00:00:00'),\n Timestamp('2021-01-26 00:00:00'),\n Timestamp('2021-01-27 00:00:00'),\n Timestamp('2021-01-28 00:00:00'),\n Timestamp('2021-01-29 00:00:00'),\n Timestamp('2021-02-01 00:00:00'),\n Timestamp('2021-02-02 00:00:00'),\n Timestamp('2021-02-03 00:00:00'),\n Timestamp('2021-02-04 00:00:00'),\n Timestamp('2021-02-05 00:00:00'),\n Timestamp('2021-02-08 00:00:00'),\n Timestamp('2021-02-09 00:00:00'),\n Timestamp('2021-02-10 00:00:00'),\n Timestamp('2021-02-18 00:00:00'),\n Timestamp('2021-02-19 00:00:00'),\n Timestamp('2021-02-22 00:00:00'),\n Timestamp('2021-02-23 00:00:00'),\n Timestamp('2021-02-24 00:00:00'),\n Timestamp('2021-02-25 00:00:00'),\n Timestamp('2021-02-26 00:00:00'),\n Timestamp('2021-03-01 00:00:00'),\n Timestamp('2021-03-02 00:00:00'),\n Timestamp('2021-03-03 00:00:00'),\n Timestamp('2021-03-04 00:00:00'),\n Timestamp('2021-03-05 00:00:00'),\n Timestamp('2021-03-08 00:00:00'),\n Timestamp('2021-03-09 00:00:00'),\n Timestamp('2021-03-10 00:00:00'),\n Timestamp('2021-03-11 00:00:00'),\n Timestamp('2021-03-12 00:00:00'),\n Timestamp('2021-03-15 00:00:00'),\n Timestamp('2021-03-16 00:00:00'),\n Timestamp('2021-03-17 00:00:00'),\n Timestamp('2021-03-18 00:00:00'),\n Timestamp('2021-03-19 00:00:00'),\n Timestamp('2021-03-22 00:00:00'),\n Timestamp('2021-03-23 00:00:00'),\n Timestamp('2021-03-24 00:00:00'),\n Timestamp('2021-03-25 00:00:00'),\n Timestamp('2021-03-26 00:00:00'),\n Timestamp('2021-03-29 00:00:00'),\n Timestamp('2021-03-30 00:00:00'),\n Timestamp('2021-03-31 00:00:00'),\n Timestamp('2021-04-01 00:00:00'),\n Timestamp('2021-04-02 00:00:00'),\n Timestamp('2021-04-06 00:00:00'),\n Timestamp('2021-04-07 00:00:00'),\n Timestamp('2021-04-08 00:00:00'),\n Timestamp('2021-04-09 00:00:00'),\n Timestamp('2021-04-12 00:00:00'),\n Timestamp('2021-04-13 00:00:00'),\n Timestamp('2021-04-14 00:00:00'),\n Timestamp('2021-04-15 00:00:00'),\n Timestamp('2021-04-16 00:00:00'),\n Timestamp('2021-04-19 00:00:00'),\n Timestamp('2021-04-20 00:00:00'),\n Timestamp('2021-04-21 00:00:00'),\n Timestamp('2021-04-22 00:00:00'),\n Timestamp('2021-04-23 00:00:00'),\n Timestamp('2021-04-26 00:00:00'),\n Timestamp('2021-04-27 00:00:00'),\n Timestamp('2021-04-28 00:00:00'),\n Timestamp('2021-04-29 00:00:00'),\n Timestamp('2021-04-30 00:00:00'),\n Timestamp('2021-05-06 00:00:00'),\n Timestamp('2021-05-07 00:00:00'),\n Timestamp('2021-05-10 00:00:00'),\n Timestamp('2021-05-11 00:00:00'),\n Timestamp('2021-05-12 00:00:00'),\n Timestamp('2021-05-13 00:00:00'),\n Timestamp('2021-05-14 00:00:00'),\n Timestamp('2021-05-17 00:00:00'),\n Timestamp('2021-05-18 00:00:00'),\n Timestamp('2021-05-19 00:00:00'),\n Timestamp('2021-05-20 00:00:00'),\n Timestamp('2021-05-21 00:00:00'),\n Timestamp('2021-05-24 00:00:00'),\n Timestamp('2021-05-25 00:00:00'),\n Timestamp('2021-05-26 00:00:00'),\n Timestamp('2021-05-27 00:00:00'),\n Timestamp('2021-05-28 00:00:00'),\n Timestamp('2021-05-31 00:00:00'),\n Timestamp('2021-06-01 00:00:00'),\n Timestamp('2021-06-02 00:00:00'),\n Timestamp('2021-06-03 00:00:00'),\n Timestamp('2021-06-04 00:00:00'),\n Timestamp('2021-06-07 00:00:00'),\n Timestamp('2021-06-08 00:00:00'),\n Timestamp('2021-06-09 00:00:00'),\n Timestamp('2021-06-10 00:00:00'),\n Timestamp('2021-06-11 00:00:00'),\n Timestamp('2021-06-15 00:00:00'),\n Timestamp('2021-06-16 00:00:00'),\n Timestamp('2021-06-17 00:00:00'),\n Timestamp('2021-06-18 00:00:00'),\n Timestamp('2021-06-21 00:00:00'),\n Timestamp('2021-06-22 00:00:00'),\n Timestamp('2021-06-23 00:00:00'),\n Timestamp('2021-06-24 00:00:00'),\n Timestamp('2021-06-25 00:00:00'),\n Timestamp('2021-06-28 00:00:00'),\n Timestamp('2021-06-29 00:00:00'),\n Timestamp('2021-06-30 00:00:00'),\n Timestamp('2021-07-01 00:00:00'),\n Timestamp('2021-07-02 00:00:00'),\n Timestamp('2021-07-05 00:00:00'),\n Timestamp('2021-07-06 00:00:00'),\n Timestamp('2021-07-07 00:00:00'),\n Timestamp('2021-07-08 00:00:00'),\n Timestamp('2021-07-09 00:00:00'),\n Timestamp('2021-07-12 00:00:00'),\n Timestamp('2021-07-13 00:00:00'),\n Timestamp('2021-07-14 00:00:00'),\n Timestamp('2021-07-15 00:00:00'),\n Timestamp('2021-07-16 00:00:00'),\n Timestamp('2021-07-19 00:00:00'),\n Timestamp('2021-07-20 00:00:00'),\n Timestamp('2021-07-21 00:00:00'),\n Timestamp('2021-07-22 00:00:00'),\n Timestamp('2021-07-23 00:00:00'),\n Timestamp('2021-07-26 00:00:00'),\n Timestamp('2021-07-27 00:00:00'),\n Timestamp('2021-07-28 00:00:00'),\n Timestamp('2021-07-29 00:00:00'),\n Timestamp('2021-07-30 00:00:00'),\n Timestamp('2021-08-02 00:00:00'),\n Timestamp('2021-08-03 00:00:00'),\n Timestamp('2021-08-04 00:00:00'),\n Timestamp('2021-08-05 00:00:00'),\n Timestamp('2021-08-06 00:00:00'),\n Timestamp('2021-08-09 00:00:00'),\n Timestamp('2021-08-10 00:00:00'),\n Timestamp('2021-08-11 00:00:00'),\n Timestamp('2021-08-12 00:00:00'),\n Timestamp('2021-08-13 00:00:00'),\n Timestamp('2021-08-16 00:00:00'),\n Timestamp('2021-08-17 00:00:00'),\n Timestamp('2021-08-18 00:00:00'),\n Timestamp('2021-08-19 00:00:00'),\n Timestamp('2021-08-20 00:00:00'),\n Timestamp('2021-08-23 00:00:00'),\n Timestamp('2021-08-24 00:00:00'),\n Timestamp('2021-08-25 00:00:00'),\n Timestamp('2021-08-26 00:00:00'),\n Timestamp('2021-08-27 00:00:00'),\n Timestamp('2021-08-30 00:00:00'),\n Timestamp('2021-08-31 00:00:00'),\n Timestamp('2021-09-01 00:00:00'),\n Timestamp('2021-09-02 00:00:00'),\n Timestamp('2021-09-03 00:00:00'),\n Timestamp('2021-09-06 00:00:00'),\n Timestamp('2021-09-07 00:00:00'),\n Timestamp('2021-09-08 00:00:00'),\n Timestamp('2021-09-09 00:00:00'),\n Timestamp('2021-09-10 00:00:00'),\n Timestamp('2021-09-13 00:00:00'),\n Timestamp('2021-09-14 00:00:00'),\n Timestamp('2021-09-15 00:00:00'),\n Timestamp('2021-09-16 00:00:00'),\n Timestamp('2021-09-17 00:00:00'),\n Timestamp('2021-09-22 00:00:00'),\n Timestamp('2021-09-23 00:00:00'),\n Timestamp('2021-09-24 00:00:00'),\n Timestamp('2021-09-27 00:00:00'),\n Timestamp('2021-09-28 00:00:00'),\n Timestamp('2021-09-29 00:00:00'),\n Timestamp('2021-09-30 00:00:00'),\n Timestamp('2021-10-08 00:00:00'),\n Timestamp('2021-10-11 00:00:00'),\n Timestamp('2021-10-12 00:00:00'),\n Timestamp('2021-10-13 00:00:00'),\n Timestamp('2021-10-14 00:00:00'),\n Timestamp('2021-10-15 00:00:00'),\n Timestamp('2021-10-18 00:00:00'),\n Timestamp('2021-10-19 00:00:00'),\n Timestamp('2021-10-20 00:00:00'),\n Timestamp('2021-10-21 00:00:00'),\n Timestamp('2021-10-22 00:00:00'),\n Timestamp('2021-10-25 00:00:00'),\n Timestamp('2021-10-26 00:00:00'),\n Timestamp('2021-10-27 00:00:00'),\n Timestamp('2021-10-28 00:00:00'),\n Timestamp('2021-10-29 00:00:00'),\n Timestamp('2021-11-01 00:00:00'),\n Timestamp('2021-11-02 00:00:00'),\n Timestamp('2021-11-03 00:00:00'),\n Timestamp('2021-11-04 00:00:00'),\n Timestamp('2021-11-05 00:00:00'),\n Timestamp('2021-11-08 00:00:00'),\n Timestamp('2021-11-09 00:00:00'),\n Timestamp('2021-11-10 00:00:00'),\n Timestamp('2021-11-11 00:00:00'),\n Timestamp('2021-11-12 00:00:00'),\n Timestamp('2021-11-15 00:00:00'),\n Timestamp('2021-11-16 00:00:00'),\n Timestamp('2021-11-17 00:00:00'),\n Timestamp('2021-11-18 00:00:00'),\n Timestamp('2021-11-19 00:00:00'),\n Timestamp('2021-11-22 00:00:00'),\n Timestamp('2021-11-23 00:00:00'),\n Timestamp('2021-11-24 00:00:00'),\n Timestamp('2021-11-25 00:00:00'),\n Timestamp('2021-11-26 00:00:00'),\n Timestamp('2021-11-29 00:00:00'),\n Timestamp('2021-11-30 00:00:00'),\n Timestamp('2021-12-01 00:00:00'),\n Timestamp('2021-12-02 00:00:00'),\n Timestamp('2021-12-03 00:00:00'),\n Timestamp('2021-12-06 00:00:00'),\n Timestamp('2021-12-07 00:00:00'),\n Timestamp('2021-12-08 00:00:00'),\n Timestamp('2021-12-09 00:00:00'),\n Timestamp('2021-12-10 00:00:00'),\n Timestamp('2021-12-13 00:00:00'),\n Timestamp('2021-12-14 00:00:00'),\n Timestamp('2021-12-15 00:00:00'),\n Timestamp('2021-12-16 00:00:00'),\n Timestamp('2021-12-17 00:00:00'),\n Timestamp('2021-12-20 00:00:00'),\n Timestamp('2021-12-21 00:00:00'),\n Timestamp('2021-12-22 00:00:00'),\n Timestamp('2021-12-23 00:00:00'),\n Timestamp('2021-12-24 00:00:00'),\n Timestamp('2021-12-27 00:00:00'),\n Timestamp('2021-12-28 00:00:00'),\n Timestamp('2021-12-29 00:00:00'),\n Timestamp('2021-12-30 00:00:00'),\n Timestamp('2021-12-31 00:00:00'),\n Timestamp('2022-01-04 00:00:00'),\n Timestamp('2022-01-05 00:00:00'),\n Timestamp('2022-01-06 00:00:00'),\n Timestamp('2022-01-07 00:00:00'),\n Timestamp('2022-01-10 00:00:00'),\n Timestamp('2022-01-11 00:00:00'),\n Timestamp('2022-01-12 00:00:00'),\n Timestamp('2022-01-13 00:00:00'),\n Timestamp('2022-01-14 00:00:00'),\n Timestamp('2022-01-17 00:00:00'),\n Timestamp('2022-01-18 00:00:00'),\n Timestamp('2022-01-19 00:00:00'),\n Timestamp('2022-01-20 00:00:00'),\n Timestamp('2022-01-21 00:00:00'),\n Timestamp('2022-01-24 00:00:00'),\n Timestamp('2022-01-25 00:00:00'),\n Timestamp('2022-01-26 00:00:00'),\n Timestamp('2022-01-27 00:00:00'),\n Timestamp('2022-01-28 00:00:00'),\n Timestamp('2022-02-07 00:00:00'),\n Timestamp('2022-02-08 00:00:00'),\n Timestamp('2022-02-09 00:00:00'),\n Timestamp('2022-02-10 00:00:00'),\n Timestamp('2022-02-11 00:00:00'),\n Timestamp('2022-02-14 00:00:00'),\n Timestamp('2022-02-15 00:00:00'),\n Timestamp('2022-02-16 00:00:00'),\n Timestamp('2022-02-17 00:00:00'),\n Timestamp('2022-02-18 00:00:00'),\n Timestamp('2022-02-21 00:00:00'),\n Timestamp('2022-02-22 00:00:00'),\n Timestamp('2022-02-23 00:00:00'),\n Timestamp('2022-02-24 00:00:00'),\n Timestamp('2022-02-25 00:00:00'),\n Timestamp('2022-02-28 00:00:00'),\n Timestamp('2022-03-01 00:00:00'),\n Timestamp('2022-03-02 00:00:00'),\n Timestamp('2022-03-03 00:00:00'),\n Timestamp('2022-03-04 00:00:00'),\n Timestamp('2022-03-07 00:00:00'),\n Timestamp('2022-03-08 00:00:00'),\n Timestamp('2022-03-09 00:00:00'),\n Timestamp('2022-03-10 00:00:00'),\n Timestamp('2022-03-11 00:00:00'),\n Timestamp('2022-03-14 00:00:00'),\n Timestamp('2022-03-15 00:00:00'),\n Timestamp('2022-03-16 00:00:00'),\n Timestamp('2022-03-17 00:00:00'),\n Timestamp('2022-03-18 00:00:00'),\n Timestamp('2022-03-21 00:00:00'),\n Timestamp('2022-03-22 00:00:00'),\n Timestamp('2022-03-23 00:00:00'),\n Timestamp('2022-03-24 00:00:00'),\n Timestamp('2022-03-25 00:00:00'),\n Timestamp('2022-03-28 00:00:00'),\n Timestamp('2022-03-29 00:00:00'),\n Timestamp('2022-03-30 00:00:00'),\n Timestamp('2022-03-31 00:00:00'),\n Timestamp('2022-04-01 00:00:00'),\n Timestamp('2022-04-06 00:00:00'),\n Timestamp('2022-04-07 00:00:00'),\n Timestamp('2022-04-08 00:00:00'),\n Timestamp('2022-04-11 00:00:00'),\n Timestamp('2022-04-12 00:00:00'),\n Timestamp('2022-04-13 00:00:00'),\n Timestamp('2022-04-14 00:00:00'),\n Timestamp('2022-04-15 00:00:00'),\n Timestamp('2022-04-18 00:00:00'),\n Timestamp('2022-04-19 00:00:00'),\n Timestamp('2022-04-20 00:00:00'),\n Timestamp('2022-04-21 00:00:00'),\n Timestamp('2022-04-22 00:00:00'),\n Timestamp('2022-04-25 00:00:00'),\n Timestamp('2022-04-26 00:00:00'),\n Timestamp('2022-04-27 00:00:00'),\n Timestamp('2022-04-28 00:00:00'),\n Timestamp('2022-04-29 00:00:00'),\n Timestamp('2022-05-05 00:00:00'),\n Timestamp('2022-05-06 00:00:00'),\n Timestamp('2022-05-09 00:00:00'),\n Timestamp('2022-05-10 00:00:00'),\n Timestamp('2022-05-11 00:00:00'),\n Timestamp('2022-05-12 00:00:00'),\n Timestamp('2022-05-13 00:00:00'),\n Timestamp('2022-05-16 00:00:00'),\n Timestamp('2022-05-17 00:00:00'),\n Timestamp('2022-05-18 00:00:00'),\n Timestamp('2022-05-19 00:00:00'),\n Timestamp('2022-05-20 00:00:00'),\n Timestamp('2022-05-23 00:00:00'),\n Timestamp('2022-05-24 00:00:00'),\n Timestamp('2022-05-25 00:00:00'),\n Timestamp('2022-05-26 00:00:00'),\n Timestamp('2022-05-27 00:00:00'),\n Timestamp('2022-05-30 00:00:00'),\n Timestamp('2022-05-31 00:00:00'),\n Timestamp('2022-06-01 00:00:00'),\n Timestamp('2022-06-02 00:00:00'),\n Timestamp('2022-06-06 00:00:00'),\n Timestamp('2022-06-07 00:00:00'),\n Timestamp('2022-06-08 00:00:00'),\n Timestamp('2022-06-09 00:00:00'),\n Timestamp('2022-06-10 00:00:00'),\n Timestamp('2022-06-13 00:00:00'),\n Timestamp('2022-06-14 00:00:00'),\n Timestamp('2022-06-15 00:00:00'),\n Timestamp('2022-06-16 00:00:00'),\n Timestamp('2022-06-17 00:00:00'),\n Timestamp('2022-06-20 00:00:00'),\n Timestamp('2022-06-21 00:00:00'),\n Timestamp('2022-06-22 00:00:00'),\n Timestamp('2022-06-23 00:00:00'),\n Timestamp('2022-06-24 00:00:00'),\n Timestamp('2022-06-27 00:00:00'),\n Timestamp('2022-06-28 00:00:00'),\n Timestamp('2022-06-29 00:00:00'),\n Timestamp('2022-06-30 00:00:00'),\n Timestamp('2022-07-01 00:00:00'),\n Timestamp('2022-07-04 00:00:00'),\n Timestamp('2022-07-05 00:00:00'),\n Timestamp('2022-07-06 00:00:00'),\n Timestamp('2022-07-07 00:00:00'),\n Timestamp('2022-07-08 00:00:00'),\n Timestamp('2022-07-11 00:00:00'),\n Timestamp('2022-07-12 00:00:00'),\n Timestamp('2022-07-13 00:00:00'),\n Timestamp('2022-07-14 00:00:00'),\n Timestamp('2022-07-15 00:00:00'),\n Timestamp('2022-07-18 00:00:00'),\n Timestamp('2022-07-19 00:00:00'),\n Timestamp('2022-07-20 00:00:00'),\n Timestamp('2022-07-21 00:00:00'),\n Timestamp('2022-07-22 00:00:00'),\n Timestamp('2022-07-25 00:00:00'),\n Timestamp('2022-07-26 00:00:00'),\n Timestamp('2022-07-27 00:00:00'),\n Timestamp('2022-07-28 00:00:00'),\n Timestamp('2022-07-29 00:00:00'),\n Timestamp('2022-08-01 00:00:00'),\n Timestamp('2022-08-02 00:00:00'),\n Timestamp('2022-08-03 00:00:00'),\n Timestamp('2022-08-04 00:00:00'),\n Timestamp('2022-08-05 00:00:00'),\n Timestamp('2022-08-08 00:00:00'),\n Timestamp('2022-08-09 00:00:00'),\n Timestamp('2022-08-10 00:00:00'),\n Timestamp('2022-08-11 00:00:00'),\n Timestamp('2022-08-12 00:00:00'),\n Timestamp('2022-08-15 00:00:00'),\n Timestamp('2022-08-16 00:00:00'),\n Timestamp('2022-08-17 00:00:00'),\n Timestamp('2022-08-18 00:00:00'),\n Timestamp('2022-08-19 00:00:00'),\n Timestamp('2022-08-22 00:00:00'),\n Timestamp('2022-08-23 00:00:00'),\n Timestamp('2022-08-24 00:00:00'),\n Timestamp('2022-08-25 00:00:00'),\n Timestamp('2022-08-26 00:00:00'),\n Timestamp('2022-08-29 00:00:00'),\n Timestamp('2022-08-30 00:00:00'),\n Timestamp('2022-08-31 00:00:00'),\n Timestamp('2022-09-01 00:00:00'),\n Timestamp('2022-09-02 00:00:00'),\n Timestamp('2022-09-05 00:00:00'),\n Timestamp('2022-09-06 00:00:00'),\n Timestamp('2022-09-07 00:00:00'),\n Timestamp('2022-09-08 00:00:00'),\n Timestamp('2022-09-09 00:00:00'),\n Timestamp('2022-09-13 00:00:00'),\n Timestamp('2022-09-14 00:00:00'),\n Timestamp('2022-09-15 00:00:00'),\n Timestamp('2022-09-16 00:00:00'),\n Timestamp('2022-09-19 00:00:00'),\n Timestamp('2022-09-20 00:00:00'),\n Timestamp('2022-09-21 00:00:00'),\n Timestamp('2022-09-22 00:00:00'),\n Timestamp('2022-09-23 00:00:00'),\n Timestamp('2022-09-26 00:00:00'),\n Timestamp('2022-09-27 00:00:00'),\n Timestamp('2022-09-28 00:00:00'),\n Timestamp('2022-09-29 00:00:00'),\n Timestamp('2022-09-30 00:00:00'),\n Timestamp('2022-10-10 00:00:00'),\n Timestamp('2022-10-11 00:00:00'),\n Timestamp('2022-10-12 00:00:00'),\n Timestamp('2022-10-13 00:00:00'),\n Timestamp('2022-10-14 00:00:00'),\n Timestamp('2022-10-17 00:00:00'),\n Timestamp('2022-10-18 00:00:00'),\n Timestamp('2022-10-19 00:00:00'),\n Timestamp('2022-10-20 00:00:00'),\n Timestamp('2022-10-21 00:00:00'),\n Timestamp('2022-10-24 00:00:00'),\n Timestamp('2022-10-25 00:00:00'),\n Timestamp('2022-10-26 00:00:00'),\n Timestamp('2022-10-27 00:00:00'),\n Timestamp('2022-10-28 00:00:00'),\n Timestamp('2022-10-31 00:00:00'),\n Timestamp('2022-11-01 00:00:00'),\n Timestamp('2022-11-02 00:00:00'),\n Timestamp('2022-11-03 00:00:00'),\n Timestamp('2022-11-04 00:00:00'),\n Timestamp('2022-11-07 00:00:00'),\n Timestamp('2022-11-08 00:00:00'),\n Timestamp('2022-11-09 00:00:00'),\n Timestamp('2022-11-10 00:00:00'),\n Timestamp('2022-11-11 00:00:00'),\n Timestamp('2022-11-14 00:00:00'),\n Timestamp('2022-11-15 00:00:00'),\n Timestamp('2022-11-16 00:00:00'),\n Timestamp('2022-11-17 00:00:00'),\n Timestamp('2022-11-18 00:00:00'),\n Timestamp('2022-11-21 00:00:00'),\n Timestamp('2022-11-22 00:00:00'),\n Timestamp('2022-11-23 00:00:00'),\n Timestamp('2022-11-24 00:00:00'),\n Timestamp('2022-11-25 00:00:00'),\n Timestamp('2022-11-28 00:00:00'),\n Timestamp('2022-11-29 00:00:00'),\n Timestamp('2022-11-30 00:00:00'),\n Timestamp('2022-12-01 00:00:00'),\n Timestamp('2022-12-02 00:00:00'),\n Timestamp('2022-12-05 00:00:00'),\n Timestamp('2022-12-06 00:00:00'),\n Timestamp('2022-12-07 00:00:00'),\n Timestamp('2022-12-08 00:00:00'),\n Timestamp('2022-12-09 00:00:00'),\n Timestamp('2022-12-12 00:00:00'),\n Timestamp('2022-12-13 00:00:00'),\n Timestamp('2022-12-14 00:00:00'),\n Timestamp('2022-12-15 00:00:00'),\n Timestamp('2022-12-16 00:00:00'),\n Timestamp('2022-12-19 00:00:00'),\n Timestamp('2022-12-20 00:00:00'),\n Timestamp('2022-12-21 00:00:00'),\n Timestamp('2022-12-22 00:00:00'),\n Timestamp('2022-12-23 00:00:00'),\n Timestamp('2022-12-26 00:00:00'),\n Timestamp('2022-12-27 00:00:00'),\n Timestamp('2022-12-28 00:00:00'),\n Timestamp('2022-12-29 00:00:00'),\n Timestamp('2022-12-30 00:00:00'),\n Timestamp('2023-01-03 00:00:00'),\n Timestamp('2023-01-04 00:00:00'),\n Timestamp('2023-01-05 00:00:00'),\n Timestamp('2023-01-06 00:00:00'),\n Timestamp('2023-01-09 00:00:00'),\n Timestamp('2023-01-10 00:00:00'),\n Timestamp('2023-01-11 00:00:00'),\n Timestamp('2023-01-12 00:00:00'),\n Timestamp('2023-01-13 00:00:00'),\n Timestamp('2023-01-16 00:00:00'),\n Timestamp('2023-01-17 00:00:00'),\n Timestamp('2023-01-18 00:00:00'),\n Timestamp('2023-01-19 00:00:00'),\n Timestamp('2023-01-20 00:00:00'),\n Timestamp('2023-01-30 00:00:00'),\n Timestamp('2023-01-31 00:00:00'),\n Timestamp('2023-02-01 00:00:00'),\n Timestamp('2023-02-02 00:00:00'),\n Timestamp('2023-02-03 00:00:00'),\n Timestamp('2023-02-06 00:00:00'),\n Timestamp('2023-02-07 00:00:00'),\n Timestamp('2023-02-08 00:00:00'),\n Timestamp('2023-02-09 00:00:00'),\n Timestamp('2023-02-10 00:00:00'),\n Timestamp('2023-02-13 00:00:00'),\n Timestamp('2023-02-14 00:00:00'),\n Timestamp('2023-02-15 00:00:00'),\n Timestamp('2023-02-16 00:00:00'),\n Timestamp('2023-02-17 00:00:00'),\n Timestamp('2023-02-20 00:00:00'),\n Timestamp('2023-02-21 00:00:00'),\n Timestamp('2023-02-22 00:00:00'),\n Timestamp('2023-02-23 00:00:00'),\n Timestamp('2023-02-24 00:00:00'),\n Timestamp('2023-02-27 00:00:00'),\n Timestamp('2023-02-28 00:00:00'),\n Timestamp('2023-03-01 00:00:00'),\n Timestamp('2023-03-02 00:00:00'),\n Timestamp('2023-03-03 00:00:00'),\n Timestamp('2023-03-06 00:00:00'),\n Timestamp('2023-03-07 00:00:00'),\n Timestamp('2023-03-08 00:00:00'),\n Timestamp('2023-03-09 00:00:00'),\n Timestamp('2023-03-10 00:00:00'),\n Timestamp('2023-03-13 00:00:00'),\n Timestamp('2023-03-14 00:00:00'),\n Timestamp('2023-03-15 00:00:00'),\n Timestamp('2023-03-16 00:00:00'),\n Timestamp('2023-03-17 00:00:00'),\n Timestamp('2023-03-20 00:00:00'),\n Timestamp('2023-03-21 00:00:00'),\n Timestamp('2023-03-22 00:00:00'),\n Timestamp('2023-03-23 00:00:00'),\n Timestamp('2023-03-24 00:00:00'),\n Timestamp('2023-03-27 00:00:00'),\n Timestamp('2023-03-28 00:00:00'),\n Timestamp('2023-03-29 00:00:00'),\n Timestamp('2023-03-30 00:00:00'),\n Timestamp('2023-03-31 00:00:00'),\n Timestamp('2023-04-03 00:00:00'),\n Timestamp('2023-04-04 00:00:00'),\n Timestamp('2023-04-06 00:00:00'),\n Timestamp('2023-04-07 00:00:00'),\n Timestamp('2023-04-10 00:00:00'),\n Timestamp('2023-04-11 00:00:00'),\n Timestamp('2023-04-12 00:00:00'),\n Timestamp('2023-04-13 00:00:00'),\n Timestamp('2023-04-14 00:00:00'),\n Timestamp('2023-04-17 00:00:00'),\n Timestamp('2023-04-18 00:00:00'),\n Timestamp('2023-04-19 00:00:00'),\n Timestamp('2023-04-20 00:00:00'),\n Timestamp('2023-04-21 00:00:00'),\n Timestamp('2023-04-24 00:00:00'),\n Timestamp('2023-04-25 00:00:00'),\n Timestamp('2023-04-26 00:00:00'),\n Timestamp('2023-04-27 00:00:00'),\n Timestamp('2023-04-28 00:00:00'),\n Timestamp('2023-05-04 00:00:00'),\n Timestamp('2023-05-05 00:00:00'),\n Timestamp('2023-05-08 00:00:00'),\n Timestamp('2023-05-09 00:00:00'),\n Timestamp('2023-05-10 00:00:00'),\n Timestamp('2023-05-11 00:00:00'),\n Timestamp('2023-05-12 00:00:00'),\n Timestamp('2023-05-15 00:00:00'),\n Timestamp('2023-05-16 00:00:00'),\n Timestamp('2023-05-17 00:00:00'),\n Timestamp('2023-05-18 00:00:00'),\n Timestamp('2023-05-19 00:00:00'),\n Timestamp('2023-05-22 00:00:00'),\n Timestamp('2023-05-23 00:00:00'),\n Timestamp('2023-05-24 00:00:00'),\n Timestamp('2023-05-25 00:00:00'),\n Timestamp('2023-05-26 00:00:00'),\n Timestamp('2023-05-29 00:00:00'),\n Timestamp('2023-05-30 00:00:00'),\n Timestamp('2023-05-31 00:00:00'),\n Timestamp('2023-06-01 00:00:00'),\n Timestamp('2023-06-02 00:00:00'),\n Timestamp('2023-06-05 00:00:00'),\n Timestamp('2023-06-06 00:00:00'),\n Timestamp('2023-06-07 00:00:00'),\n Timestamp('2023-06-08 00:00:00'),\n Timestamp('2023-06-09 00:00:00'),\n Timestamp('2023-06-12 00:00:00'),\n Timestamp('2023-06-13 00:00:00'),\n Timestamp('2023-06-14 00:00:00'),\n Timestamp('2023-06-15 00:00:00'),\n Timestamp('2023-06-16 00:00:00'),\n Timestamp('2023-06-19 00:00:00'),\n Timestamp('2023-06-20 00:00:00'),\n Timestamp('2023-06-21 00:00:00'),\n Timestamp('2023-06-26 00:00:00'),\n Timestamp('2023-06-27 00:00:00'),\n Timestamp('2023-06-28 00:00:00'),\n Timestamp('2023-06-29 00:00:00'),\n Timestamp('2023-06-30 00:00:00'),\n Timestamp('2023-07-03 00:00:00'),\n Timestamp('2023-07-04 00:00:00'),\n Timestamp('2023-07-05 00:00:00'),\n Timestamp('2023-07-06 00:00:00'),\n Timestamp('2023-07-07 00:00:00'),\n Timestamp('2023-07-10 00:00:00'),\n Timestamp('2023-07-11 00:00:00'),\n Timestamp('2023-07-12 00:00:00'),\n Timestamp('2023-07-13 00:00:00'),\n Timestamp('2023-07-14 00:00:00'),\n Timestamp('2023-07-17 00:00:00'),\n Timestamp('2023-07-18 00:00:00'),\n Timestamp('2023-07-19 00:00:00'),\n Timestamp('2023-07-20 00:00:00'),\n Timestamp('2023-07-21 00:00:00'),\n Timestamp('2023-07-24 00:00:00'),\n Timestamp('2023-07-25 00:00:00'),\n Timestamp('2023-07-26 00:00:00'),\n Timestamp('2023-07-27 00:00:00'),\n Timestamp('2023-07-28 00:00:00'),\n Timestamp('2023-07-31 00:00:00'),\n Timestamp('2023-08-01 00:00:00'),\n Timestamp('2023-08-02 00:00:00'),\n Timestamp('2023-08-03 00:00:00'),\n Timestamp('2023-08-04 00:00:00'),\n Timestamp('2023-08-07 00:00:00'),\n Timestamp('2023-08-08 00:00:00'),\n Timestamp('2023-08-09 00:00:00'),\n Timestamp('2023-08-10 00:00:00'),\n Timestamp('2023-08-11 00:00:00'),\n Timestamp('2023-08-14 00:00:00'),\n Timestamp('2023-08-15 00:00:00'),\n Timestamp('2023-08-16 00:00:00'),\n Timestamp('2023-08-17 00:00:00'),\n Timestamp('2023-08-18 00:00:00'),\n Timestamp('2023-08-21 00:00:00'),\n Timestamp('2023-08-22 00:00:00'),\n Timestamp('2023-08-23 00:00:00'),\n Timestamp('2023-08-24 00:00:00'),\n Timestamp('2023-08-25 00:00:00'),\n Timestamp('2023-08-28 00:00:00'),\n Timestamp('2023-08-29 00:00:00'),\n Timestamp('2023-08-30 00:00:00'),\n Timestamp('2023-08-31 00:00:00'),\n Timestamp('2023-09-01 00:00:00'),\n Timestamp('2023-09-04 00:00:00'),\n Timestamp('2023-09-05 00:00:00'),\n Timestamp('2023-09-06 00:00:00'),\n Timestamp('2023-09-07 00:00:00'),\n Timestamp('2023-09-08 00:00:00'),\n Timestamp('2023-09-11 00:00:00'),\n Timestamp('2023-09-12 00:00:00'),\n Timestamp('2023-09-13 00:00:00'),\n Timestamp('2023-09-14 00:00:00'),\n Timestamp('2023-09-15 00:00:00'),\n Timestamp('2023-09-18 00:00:00'),\n Timestamp('2023-09-19 00:00:00'),\n Timestamp('2023-09-20 00:00:00'),\n Timestamp('2023-09-21 00:00:00'),\n Timestamp('2023-09-22 00:00:00'),\n Timestamp('2023-09-25 00:00:00'),\n Timestamp('2023-09-26 00:00:00'),\n Timestamp('2023-09-27 00:00:00'),\n Timestamp('2023-09-28 00:00:00'),\n Timestamp('2023-10-09 00:00:00'),\n Timestamp('2023-10-10 00:00:00'),\n Timestamp('2023-10-11 00:00:00'),\n Timestamp('2023-10-12 00:00:00'),\n Timestamp('2023-10-13 00:00:00'),\n Timestamp('2023-10-16 00:00:00'),\n Timestamp('2023-10-17 00:00:00'),\n Timestamp('2023-10-18 00:00:00'),\n Timestamp('2023-10-19 00:00:00'),\n Timestamp('2023-10-20 00:00:00'),\n Timestamp('2023-10-23 00:00:00'),\n Timestamp('2023-10-24 00:00:00'),\n Timestamp('2023-10-25 00:00:00'),\n Timestamp('2023-10-26 00:00:00'),\n Timestamp('2023-10-27 00:00:00'),\n Timestamp('2023-10-30 00:00:00'),\n Timestamp('2023-10-31 00:00:00'),\n Timestamp('2023-11-01 00:00:00'),\n Timestamp('2023-11-02 00:00:00'),\n Timestamp('2023-11-03 00:00:00'),\n Timestamp('2023-11-06 00:00:00'),\n Timestamp('2023-11-07 00:00:00'),\n Timestamp('2023-11-08 00:00:00'),\n Timestamp('2023-11-09 00:00:00'),\n Timestamp('2023-11-10 00:00:00'),\n Timestamp('2023-11-13 00:00:00'),\n Timestamp('2023-11-14 00:00:00'),\n Timestamp('2023-11-15 00:00:00'),\n Timestamp('2023-11-16 00:00:00'),\n Timestamp('2023-11-17 00:00:00'),\n Timestamp('2023-11-20 00:00:00'),\n Timestamp('2023-11-21 00:00:00'),\n Timestamp('2023-11-22 00:00:00'),\n Timestamp('2023-11-23 00:00:00'),\n Timestamp('2023-11-24 00:00:00'),\n Timestamp('2023-11-27 00:00:00'),\n Timestamp('2023-11-28 00:00:00'),\n Timestamp('2023-11-29 00:00:00'),\n Timestamp('2023-11-30 00:00:00')]"
     },
     "execution_count": 58,
     "metadata": {},
     "output_type": "execute_result"
    }
   ],
   "source": [
    "#date_index\n",
    "#result_df['date'].values[1] == str(date_index[1])[:10]\n",
    "exist_date"
   ],
   "metadata": {
    "collapsed": false,
    "pycharm": {
     "name": "#%%\n"
    }
   }
  },
  {
   "cell_type": "code",
   "execution_count": 62,
   "outputs": [],
   "source": [
    "\n",
    "for date in exist_date:\n",
    "    tmp = result_df.loc[result_df['date'] == str(date)[:10], select_columns]\n",
    "    tmp = tmp.sort_values(by='code',ascending=True)\n",
    "    file_name = os.path.join(output_folder, f'{str(date)[:10]}.csv')\n",
    "    tmp.to_csv(file_name, index=False)"
   ],
   "metadata": {
    "collapsed": false,
    "pycharm": {
     "name": "#%%\n"
    }
   }
  },
  {
   "cell_type": "code",
   "execution_count": 2,
   "id": "1fd0dcb8",
   "metadata": {
    "pycharm": {
     "name": "#%%\n"
    }
   },
   "outputs": [
    {
     "data": {
      "text/plain": "                code    Turn20  PctTurn20       STR        date\n0        000001.XSHE       NaN        NaN       NaN  2020-01-02\n1        000001.XSHE       NaN        NaN       NaN  2020-01-03\n2        000001.XSHE       NaN        NaN       NaN  2020-01-06\n3        000001.XSHE       NaN        NaN       NaN  2020-01-07\n4        000001.XSHE       NaN        NaN       NaN  2020-01-08\n...              ...       ...        ...       ...         ...\n4253855  689009.XSHG  0.838920   0.432636  0.460271  2023-11-24\n4253856  689009.XSHG  0.871365   0.498172  0.462728  2023-11-27\n4253857  689009.XSHG  0.907240   0.570637  0.450450  2023-11-28\n4253858  689009.XSHG  0.944350   0.652413  0.444356  2023-11-29\n4253859  689009.XSHG  0.969535   0.711786  0.423493  2023-11-30\n\n[4253860 rows x 5 columns]",
      "text/html": "<div>\n<style scoped>\n    .dataframe tbody tr th:only-of-type {\n        vertical-align: middle;\n    }\n\n    .dataframe tbody tr th {\n        vertical-align: top;\n    }\n\n    .dataframe thead th {\n        text-align: right;\n    }\n</style>\n<table border=\"1\" class=\"dataframe\">\n  <thead>\n    <tr style=\"text-align: right;\">\n      <th></th>\n      <th>code</th>\n      <th>Turn20</th>\n      <th>PctTurn20</th>\n      <th>STR</th>\n      <th>date</th>\n    </tr>\n  </thead>\n  <tbody>\n    <tr>\n      <th>0</th>\n      <td>000001.XSHE</td>\n      <td>NaN</td>\n      <td>NaN</td>\n      <td>NaN</td>\n      <td>2020-01-02</td>\n    </tr>\n    <tr>\n      <th>1</th>\n      <td>000001.XSHE</td>\n      <td>NaN</td>\n      <td>NaN</td>\n      <td>NaN</td>\n      <td>2020-01-03</td>\n    </tr>\n    <tr>\n      <th>2</th>\n      <td>000001.XSHE</td>\n      <td>NaN</td>\n      <td>NaN</td>\n      <td>NaN</td>\n      <td>2020-01-06</td>\n    </tr>\n    <tr>\n      <th>3</th>\n      <td>000001.XSHE</td>\n      <td>NaN</td>\n      <td>NaN</td>\n      <td>NaN</td>\n      <td>2020-01-07</td>\n    </tr>\n    <tr>\n      <th>4</th>\n      <td>000001.XSHE</td>\n      <td>NaN</td>\n      <td>NaN</td>\n      <td>NaN</td>\n      <td>2020-01-08</td>\n    </tr>\n    <tr>\n      <th>...</th>\n      <td>...</td>\n      <td>...</td>\n      <td>...</td>\n      <td>...</td>\n      <td>...</td>\n    </tr>\n    <tr>\n      <th>4253855</th>\n      <td>689009.XSHG</td>\n      <td>0.838920</td>\n      <td>0.432636</td>\n      <td>0.460271</td>\n      <td>2023-11-24</td>\n    </tr>\n    <tr>\n      <th>4253856</th>\n      <td>689009.XSHG</td>\n      <td>0.871365</td>\n      <td>0.498172</td>\n      <td>0.462728</td>\n      <td>2023-11-27</td>\n    </tr>\n    <tr>\n      <th>4253857</th>\n      <td>689009.XSHG</td>\n      <td>0.907240</td>\n      <td>0.570637</td>\n      <td>0.450450</td>\n      <td>2023-11-28</td>\n    </tr>\n    <tr>\n      <th>4253858</th>\n      <td>689009.XSHG</td>\n      <td>0.944350</td>\n      <td>0.652413</td>\n      <td>0.444356</td>\n      <td>2023-11-29</td>\n    </tr>\n    <tr>\n      <th>4253859</th>\n      <td>689009.XSHG</td>\n      <td>0.969535</td>\n      <td>0.711786</td>\n      <td>0.423493</td>\n      <td>2023-11-30</td>\n    </tr>\n  </tbody>\n</table>\n<p>4253860 rows × 5 columns</p>\n</div>"
     },
     "execution_count": 2,
     "metadata": {},
     "output_type": "execute_result"
    }
   ],
   "source": [
    "import pandas as pd\n",
    "import numpy as np\n",
    "from tqdm import tqdm\n",
    "import os\n",
    "import time\n",
    "import glob\n",
    "import warnings\n",
    "warnings.filterwarnings('ignore')\n",
    "\n",
    "\n",
    "#data\n",
    "path = \"/Users/apple/quant_course/week1/week1_3/factor/LiangWen\"\n",
    "all_files = glob.glob(path + \"/*.csv\")   #把所有的数据文件文件名读取在一起\n",
    "\n",
    "li = []\n",
    "\n",
    "\n",
    "for filename in all_files:\n",
    "    df = pd.read_csv(filename, index_col=None, header=0)\n",
    "    date = os.path.basename(filename)[:-4]\n",
    "    df['date'] = date\n",
    "    li.append(df)\n",
    "\n",
    "\n",
    "frame = pd.concat(li, axis=0, ignore_index=True)\n",
    "result_df = frame.sort_values(by=['code', 'date'], ascending=True)\n",
    "result_df = result_df.reset_index(drop=True)\n",
    "result_df"
   ]
  },
  {
   "cell_type": "code",
   "execution_count": 3,
   "id": "ff2ebf79",
   "metadata": {
    "pycharm": {
     "name": "#%%\n"
    }
   },
   "outputs": [],
   "source": [
    "df = result_df.copy()\n",
    "df['score1'] = df.groupby('date')['STR'].transform(lambda x: x.rank())\n",
    "df['tag1'] = df.groupby('date')['STR'].transform(lambda x: x.rank(pct=True))\n",
    "df['score2'] = 0\n",
    "tmp1 = df[df['tag1'] < 0.5]\n",
    "tmp1['score2'] = tmp1.groupby('date')['Turn20'].transform(lambda x: x.rank(ascending=False))\n",
    "tmp2 = df[df['tag1'] >= 0.5]\n",
    "tmp2['score2'] = tmp2.groupby('date')['Turn20'].transform(lambda x: x.rank())\n",
    "final = pd.concat([tmp1, tmp2]).sort_values(by=['date', 'code'])\n",
    "final = final.reset_index(drop=True)\n",
    "final['UTR'] = (final['score1'] + final['score2'])\n"
   ]
  },
  {
   "cell_type": "code",
   "execution_count": 4,
   "id": "e800b99a",
   "metadata": {
    "pycharm": {
     "name": "#%%\n"
    }
   },
   "outputs": [
    {
     "data": {
      "text/plain": "                code    Turn20  PctTurn20       STR        date  score1  \\\n0        000001.XSHE  0.553360        NaN  0.214226  2020-02-06   314.0   \n1        000002.XSHE  0.813605        NaN  0.263091  2020-02-06   455.0   \n2        000004.XSHE  2.422650        NaN  0.953548  2020-02-06  1873.0   \n3        000005.XSHE  0.984995        NaN  0.409240  2020-02-06   861.0   \n4        000006.XSHE  0.761105        NaN  0.235302  2020-02-06   373.0   \n...              ...       ...        ...       ...         ...     ...   \n4155038  688799.XSHG  2.267325   0.385494  0.859976  2023-11-30  2966.0   \n4155039  688800.XSHG  2.292970   0.306996  1.545284  2023-11-30  3641.0   \n4155040  688819.XSHG  1.315320   0.300737  0.379709  2023-11-30  1795.0   \n4155041  688981.XSHG  1.173325  -0.304892  0.525994  2023-11-30  2285.0   \n4155042  689009.XSHG  0.969535   0.711786  0.423493  2023-11-30  1963.0   \n\n             tag1  score2     UTR  \n0        0.084545  1492.0  1806.0  \n1        0.122509  1184.0  1639.0  \n2        0.504308   367.0  2240.0  \n3        0.231826   975.0  1836.0  \n4        0.100431  1253.0  1626.0  \n...           ...     ...     ...  \n4155038  0.584664   729.0  3695.0  \n4155039  0.717721   749.0  4390.0  \n4155040  0.353834   476.0  2271.0  \n4155041  0.450424   647.0  2932.0  \n4155042  0.386951   991.0  2954.0  \n\n[4155043 rows x 9 columns]",
      "text/html": "<div>\n<style scoped>\n    .dataframe tbody tr th:only-of-type {\n        vertical-align: middle;\n    }\n\n    .dataframe tbody tr th {\n        vertical-align: top;\n    }\n\n    .dataframe thead th {\n        text-align: right;\n    }\n</style>\n<table border=\"1\" class=\"dataframe\">\n  <thead>\n    <tr style=\"text-align: right;\">\n      <th></th>\n      <th>code</th>\n      <th>Turn20</th>\n      <th>PctTurn20</th>\n      <th>STR</th>\n      <th>date</th>\n      <th>score1</th>\n      <th>tag1</th>\n      <th>score2</th>\n      <th>UTR</th>\n    </tr>\n  </thead>\n  <tbody>\n    <tr>\n      <th>0</th>\n      <td>000001.XSHE</td>\n      <td>0.553360</td>\n      <td>NaN</td>\n      <td>0.214226</td>\n      <td>2020-02-06</td>\n      <td>314.0</td>\n      <td>0.084545</td>\n      <td>1492.0</td>\n      <td>1806.0</td>\n    </tr>\n    <tr>\n      <th>1</th>\n      <td>000002.XSHE</td>\n      <td>0.813605</td>\n      <td>NaN</td>\n      <td>0.263091</td>\n      <td>2020-02-06</td>\n      <td>455.0</td>\n      <td>0.122509</td>\n      <td>1184.0</td>\n      <td>1639.0</td>\n    </tr>\n    <tr>\n      <th>2</th>\n      <td>000004.XSHE</td>\n      <td>2.422650</td>\n      <td>NaN</td>\n      <td>0.953548</td>\n      <td>2020-02-06</td>\n      <td>1873.0</td>\n      <td>0.504308</td>\n      <td>367.0</td>\n      <td>2240.0</td>\n    </tr>\n    <tr>\n      <th>3</th>\n      <td>000005.XSHE</td>\n      <td>0.984995</td>\n      <td>NaN</td>\n      <td>0.409240</td>\n      <td>2020-02-06</td>\n      <td>861.0</td>\n      <td>0.231826</td>\n      <td>975.0</td>\n      <td>1836.0</td>\n    </tr>\n    <tr>\n      <th>4</th>\n      <td>000006.XSHE</td>\n      <td>0.761105</td>\n      <td>NaN</td>\n      <td>0.235302</td>\n      <td>2020-02-06</td>\n      <td>373.0</td>\n      <td>0.100431</td>\n      <td>1253.0</td>\n      <td>1626.0</td>\n    </tr>\n    <tr>\n      <th>...</th>\n      <td>...</td>\n      <td>...</td>\n      <td>...</td>\n      <td>...</td>\n      <td>...</td>\n      <td>...</td>\n      <td>...</td>\n      <td>...</td>\n      <td>...</td>\n    </tr>\n    <tr>\n      <th>4155038</th>\n      <td>688799.XSHG</td>\n      <td>2.267325</td>\n      <td>0.385494</td>\n      <td>0.859976</td>\n      <td>2023-11-30</td>\n      <td>2966.0</td>\n      <td>0.584664</td>\n      <td>729.0</td>\n      <td>3695.0</td>\n    </tr>\n    <tr>\n      <th>4155039</th>\n      <td>688800.XSHG</td>\n      <td>2.292970</td>\n      <td>0.306996</td>\n      <td>1.545284</td>\n      <td>2023-11-30</td>\n      <td>3641.0</td>\n      <td>0.717721</td>\n      <td>749.0</td>\n      <td>4390.0</td>\n    </tr>\n    <tr>\n      <th>4155040</th>\n      <td>688819.XSHG</td>\n      <td>1.315320</td>\n      <td>0.300737</td>\n      <td>0.379709</td>\n      <td>2023-11-30</td>\n      <td>1795.0</td>\n      <td>0.353834</td>\n      <td>476.0</td>\n      <td>2271.0</td>\n    </tr>\n    <tr>\n      <th>4155041</th>\n      <td>688981.XSHG</td>\n      <td>1.173325</td>\n      <td>-0.304892</td>\n      <td>0.525994</td>\n      <td>2023-11-30</td>\n      <td>2285.0</td>\n      <td>0.450424</td>\n      <td>647.0</td>\n      <td>2932.0</td>\n    </tr>\n    <tr>\n      <th>4155042</th>\n      <td>689009.XSHG</td>\n      <td>0.969535</td>\n      <td>0.711786</td>\n      <td>0.423493</td>\n      <td>2023-11-30</td>\n      <td>1963.0</td>\n      <td>0.386951</td>\n      <td>991.0</td>\n      <td>2954.0</td>\n    </tr>\n  </tbody>\n</table>\n<p>4155043 rows × 9 columns</p>\n</div>"
     },
     "execution_count": 4,
     "metadata": {},
     "output_type": "execute_result"
    }
   ],
   "source": [
    "final"
   ]
  },
  {
   "cell_type": "code",
   "execution_count": null,
   "id": "5f942b53",
   "metadata": {
    "pycharm": {
     "name": "#%%\n"
    }
   },
   "outputs": [],
   "source": []
  },
  {
   "cell_type": "code",
   "execution_count": 5,
   "id": "f01f0b32",
   "metadata": {
    "pycharm": {
     "name": "#%%\n"
    }
   },
   "outputs": [],
   "source": [
    "#将日期列转换为datetime类型\n",
    "df = final\n",
    "df['date']=pd.to_datetime(df['date'])\n",
    "\n",
    "#保存文件夹路径\n",
    "output_folder='/Users/apple/quant_course/week1/week1_3/factor/UTR'\n",
    "selected_columns=['code', 'UTR']\n",
    "\n",
    "os.makedirs(output_folder,exist_ok=True)\n",
    "\n",
    "#创建日期索引并检查是否在dateframe中存在\n",
    "date_index=pd.date_range(df['date'].min(),df['date'].max(),freq='D')\n",
    "existing_dates=[d for d in date_index if d in df['date'].values]\n",
    "\n",
    "#遍历每个日期如果它在dataframe中存在 则将其保存为单独的csv文件\n",
    "for date in existing_dates:\n",
    "    group=df.loc[df['date']==date,selected_columns]\n",
    "    filename=os.path.join(output_folder,f'{date.strftime(\"%Y-%m-%d\")}.csv')\n",
    "    group=group.sort_values(by='code',ascending=True)\n",
    "    group.to_csv(filename,index=False)"
   ]
  },
  {
   "cell_type": "code",
   "execution_count": 6,
   "id": "717575e9",
   "metadata": {
    "pycharm": {
     "name": "#%%\n"
    }
   },
   "outputs": [
    {
     "data": {
      "text/plain": "                code    Turn20  PctTurn20       STR       date  score1  \\\n0        000001.XSHE  0.553360        NaN  0.214226 2020-02-06   314.0   \n1        000002.XSHE  0.813605        NaN  0.263091 2020-02-06   455.0   \n2        000004.XSHE  2.422650        NaN  0.953548 2020-02-06  1873.0   \n3        000005.XSHE  0.984995        NaN  0.409240 2020-02-06   861.0   \n4        000006.XSHE  0.761105        NaN  0.235302 2020-02-06   373.0   \n...              ...       ...        ...       ...        ...     ...   \n4155038  688799.XSHG  2.267325   0.385494  0.859976 2023-11-30  2966.0   \n4155039  688800.XSHG  2.292970   0.306996  1.545284 2023-11-30  3641.0   \n4155040  688819.XSHG  1.315320   0.300737  0.379709 2023-11-30  1795.0   \n4155041  688981.XSHG  1.173325  -0.304892  0.525994 2023-11-30  2285.0   \n4155042  689009.XSHG  0.969535   0.711786  0.423493 2023-11-30  1963.0   \n\n             tag1  score2     UTR  \n0        0.084545  1492.0  1806.0  \n1        0.122509  1184.0  1639.0  \n2        0.504308   367.0  2240.0  \n3        0.231826   975.0  1836.0  \n4        0.100431  1253.0  1626.0  \n...           ...     ...     ...  \n4155038  0.584664   729.0  3695.0  \n4155039  0.717721   749.0  4390.0  \n4155040  0.353834   476.0  2271.0  \n4155041  0.450424   647.0  2932.0  \n4155042  0.386951   991.0  2954.0  \n\n[4155043 rows x 9 columns]",
      "text/html": "<div>\n<style scoped>\n    .dataframe tbody tr th:only-of-type {\n        vertical-align: middle;\n    }\n\n    .dataframe tbody tr th {\n        vertical-align: top;\n    }\n\n    .dataframe thead th {\n        text-align: right;\n    }\n</style>\n<table border=\"1\" class=\"dataframe\">\n  <thead>\n    <tr style=\"text-align: right;\">\n      <th></th>\n      <th>code</th>\n      <th>Turn20</th>\n      <th>PctTurn20</th>\n      <th>STR</th>\n      <th>date</th>\n      <th>score1</th>\n      <th>tag1</th>\n      <th>score2</th>\n      <th>UTR</th>\n    </tr>\n  </thead>\n  <tbody>\n    <tr>\n      <th>0</th>\n      <td>000001.XSHE</td>\n      <td>0.553360</td>\n      <td>NaN</td>\n      <td>0.214226</td>\n      <td>2020-02-06</td>\n      <td>314.0</td>\n      <td>0.084545</td>\n      <td>1492.0</td>\n      <td>1806.0</td>\n    </tr>\n    <tr>\n      <th>1</th>\n      <td>000002.XSHE</td>\n      <td>0.813605</td>\n      <td>NaN</td>\n      <td>0.263091</td>\n      <td>2020-02-06</td>\n      <td>455.0</td>\n      <td>0.122509</td>\n      <td>1184.0</td>\n      <td>1639.0</td>\n    </tr>\n    <tr>\n      <th>2</th>\n      <td>000004.XSHE</td>\n      <td>2.422650</td>\n      <td>NaN</td>\n      <td>0.953548</td>\n      <td>2020-02-06</td>\n      <td>1873.0</td>\n      <td>0.504308</td>\n      <td>367.0</td>\n      <td>2240.0</td>\n    </tr>\n    <tr>\n      <th>3</th>\n      <td>000005.XSHE</td>\n      <td>0.984995</td>\n      <td>NaN</td>\n      <td>0.409240</td>\n      <td>2020-02-06</td>\n      <td>861.0</td>\n      <td>0.231826</td>\n      <td>975.0</td>\n      <td>1836.0</td>\n    </tr>\n    <tr>\n      <th>4</th>\n      <td>000006.XSHE</td>\n      <td>0.761105</td>\n      <td>NaN</td>\n      <td>0.235302</td>\n      <td>2020-02-06</td>\n      <td>373.0</td>\n      <td>0.100431</td>\n      <td>1253.0</td>\n      <td>1626.0</td>\n    </tr>\n    <tr>\n      <th>...</th>\n      <td>...</td>\n      <td>...</td>\n      <td>...</td>\n      <td>...</td>\n      <td>...</td>\n      <td>...</td>\n      <td>...</td>\n      <td>...</td>\n      <td>...</td>\n    </tr>\n    <tr>\n      <th>4155038</th>\n      <td>688799.XSHG</td>\n      <td>2.267325</td>\n      <td>0.385494</td>\n      <td>0.859976</td>\n      <td>2023-11-30</td>\n      <td>2966.0</td>\n      <td>0.584664</td>\n      <td>729.0</td>\n      <td>3695.0</td>\n    </tr>\n    <tr>\n      <th>4155039</th>\n      <td>688800.XSHG</td>\n      <td>2.292970</td>\n      <td>0.306996</td>\n      <td>1.545284</td>\n      <td>2023-11-30</td>\n      <td>3641.0</td>\n      <td>0.717721</td>\n      <td>749.0</td>\n      <td>4390.0</td>\n    </tr>\n    <tr>\n      <th>4155040</th>\n      <td>688819.XSHG</td>\n      <td>1.315320</td>\n      <td>0.300737</td>\n      <td>0.379709</td>\n      <td>2023-11-30</td>\n      <td>1795.0</td>\n      <td>0.353834</td>\n      <td>476.0</td>\n      <td>2271.0</td>\n    </tr>\n    <tr>\n      <th>4155041</th>\n      <td>688981.XSHG</td>\n      <td>1.173325</td>\n      <td>-0.304892</td>\n      <td>0.525994</td>\n      <td>2023-11-30</td>\n      <td>2285.0</td>\n      <td>0.450424</td>\n      <td>647.0</td>\n      <td>2932.0</td>\n    </tr>\n    <tr>\n      <th>4155042</th>\n      <td>689009.XSHG</td>\n      <td>0.969535</td>\n      <td>0.711786</td>\n      <td>0.423493</td>\n      <td>2023-11-30</td>\n      <td>1963.0</td>\n      <td>0.386951</td>\n      <td>991.0</td>\n      <td>2954.0</td>\n    </tr>\n  </tbody>\n</table>\n<p>4155043 rows × 9 columns</p>\n</div>"
     },
     "execution_count": 6,
     "metadata": {},
     "output_type": "execute_result"
    }
   ],
   "source": [
    "final"
   ]
  },
  {
   "cell_type": "code",
   "execution_count": 7,
   "id": "53756226",
   "metadata": {
    "pycharm": {
     "name": "#%%\n"
    }
   },
   "outputs": [
    {
     "data": {
      "text/plain": "                code    Turn20  PctTurn20       STR       date  score1  \\\n0        000001.XSHE  0.553360        NaN  0.214226 2020-02-06   314.0   \n1        000002.XSHE  0.813605        NaN  0.263091 2020-02-06   455.0   \n2        000004.XSHE  2.422650        NaN  0.953548 2020-02-06  1873.0   \n3        000005.XSHE  0.984995        NaN  0.409240 2020-02-06   861.0   \n4        000006.XSHE  0.761105        NaN  0.235302 2020-02-06   373.0   \n...              ...       ...        ...       ...        ...     ...   \n4155038  688799.XSHG  2.267325   0.385494  0.859976 2023-11-30  2966.0   \n4155039  688800.XSHG  2.292970   0.306996  1.545284 2023-11-30  3641.0   \n4155040  688819.XSHG  1.315320   0.300737  0.379709 2023-11-30  1795.0   \n4155041  688981.XSHG  1.173325  -0.304892  0.525994 2023-11-30  2285.0   \n4155042  689009.XSHG  0.969535   0.711786  0.423493 2023-11-30  1963.0   \n\n             tag1  score2     UTR    UTR_resid  \n0        0.084545  1492.0  1806.0  1470.322576  \n1        0.122509  1184.0  1639.0  1166.684298  \n2        0.504308   367.0  2240.0   763.974719  \n3        0.231826   975.0  1836.0  1227.063658  \n4        0.100431  1253.0  1626.0  1188.586333  \n...           ...     ...     ...          ...  \n4155038  0.584664   729.0  3695.0  2326.881034  \n4155039  0.717721   749.0  4390.0  2729.964262  \n4155040  0.353834   476.0  2271.0  1526.094542  \n4155041  0.450424   647.0  2932.0  2190.878540  \n4155042  0.386951   991.0  2954.0  2346.160843  \n\n[4155043 rows x 10 columns]",
      "text/html": "<div>\n<style scoped>\n    .dataframe tbody tr th:only-of-type {\n        vertical-align: middle;\n    }\n\n    .dataframe tbody tr th {\n        vertical-align: top;\n    }\n\n    .dataframe thead th {\n        text-align: right;\n    }\n</style>\n<table border=\"1\" class=\"dataframe\">\n  <thead>\n    <tr style=\"text-align: right;\">\n      <th></th>\n      <th>code</th>\n      <th>Turn20</th>\n      <th>PctTurn20</th>\n      <th>STR</th>\n      <th>date</th>\n      <th>score1</th>\n      <th>tag1</th>\n      <th>score2</th>\n      <th>UTR</th>\n      <th>UTR_resid</th>\n    </tr>\n  </thead>\n  <tbody>\n    <tr>\n      <th>0</th>\n      <td>000001.XSHE</td>\n      <td>0.553360</td>\n      <td>NaN</td>\n      <td>0.214226</td>\n      <td>2020-02-06</td>\n      <td>314.0</td>\n      <td>0.084545</td>\n      <td>1492.0</td>\n      <td>1806.0</td>\n      <td>1470.322576</td>\n    </tr>\n    <tr>\n      <th>1</th>\n      <td>000002.XSHE</td>\n      <td>0.813605</td>\n      <td>NaN</td>\n      <td>0.263091</td>\n      <td>2020-02-06</td>\n      <td>455.0</td>\n      <td>0.122509</td>\n      <td>1184.0</td>\n      <td>1639.0</td>\n      <td>1166.684298</td>\n    </tr>\n    <tr>\n      <th>2</th>\n      <td>000004.XSHE</td>\n      <td>2.422650</td>\n      <td>NaN</td>\n      <td>0.953548</td>\n      <td>2020-02-06</td>\n      <td>1873.0</td>\n      <td>0.504308</td>\n      <td>367.0</td>\n      <td>2240.0</td>\n      <td>763.974719</td>\n    </tr>\n    <tr>\n      <th>3</th>\n      <td>000005.XSHE</td>\n      <td>0.984995</td>\n      <td>NaN</td>\n      <td>0.409240</td>\n      <td>2020-02-06</td>\n      <td>861.0</td>\n      <td>0.231826</td>\n      <td>975.0</td>\n      <td>1836.0</td>\n      <td>1227.063658</td>\n    </tr>\n    <tr>\n      <th>4</th>\n      <td>000006.XSHE</td>\n      <td>0.761105</td>\n      <td>NaN</td>\n      <td>0.235302</td>\n      <td>2020-02-06</td>\n      <td>373.0</td>\n      <td>0.100431</td>\n      <td>1253.0</td>\n      <td>1626.0</td>\n      <td>1188.586333</td>\n    </tr>\n    <tr>\n      <th>...</th>\n      <td>...</td>\n      <td>...</td>\n      <td>...</td>\n      <td>...</td>\n      <td>...</td>\n      <td>...</td>\n      <td>...</td>\n      <td>...</td>\n      <td>...</td>\n      <td>...</td>\n    </tr>\n    <tr>\n      <th>4155038</th>\n      <td>688799.XSHG</td>\n      <td>2.267325</td>\n      <td>0.385494</td>\n      <td>0.859976</td>\n      <td>2023-11-30</td>\n      <td>2966.0</td>\n      <td>0.584664</td>\n      <td>729.0</td>\n      <td>3695.0</td>\n      <td>2326.881034</td>\n    </tr>\n    <tr>\n      <th>4155039</th>\n      <td>688800.XSHG</td>\n      <td>2.292970</td>\n      <td>0.306996</td>\n      <td>1.545284</td>\n      <td>2023-11-30</td>\n      <td>3641.0</td>\n      <td>0.717721</td>\n      <td>749.0</td>\n      <td>4390.0</td>\n      <td>2729.964262</td>\n    </tr>\n    <tr>\n      <th>4155040</th>\n      <td>688819.XSHG</td>\n      <td>1.315320</td>\n      <td>0.300737</td>\n      <td>0.379709</td>\n      <td>2023-11-30</td>\n      <td>1795.0</td>\n      <td>0.353834</td>\n      <td>476.0</td>\n      <td>2271.0</td>\n      <td>1526.094542</td>\n    </tr>\n    <tr>\n      <th>4155041</th>\n      <td>688981.XSHG</td>\n      <td>1.173325</td>\n      <td>-0.304892</td>\n      <td>0.525994</td>\n      <td>2023-11-30</td>\n      <td>2285.0</td>\n      <td>0.450424</td>\n      <td>647.0</td>\n      <td>2932.0</td>\n      <td>2190.878540</td>\n    </tr>\n    <tr>\n      <th>4155042</th>\n      <td>689009.XSHG</td>\n      <td>0.969535</td>\n      <td>0.711786</td>\n      <td>0.423493</td>\n      <td>2023-11-30</td>\n      <td>1963.0</td>\n      <td>0.386951</td>\n      <td>991.0</td>\n      <td>2954.0</td>\n      <td>2346.160843</td>\n    </tr>\n  </tbody>\n</table>\n<p>4155043 rows × 10 columns</p>\n</div>"
     },
     "execution_count": 7,
     "metadata": {},
     "output_type": "execute_result"
    }
   ],
   "source": [
    "import statsmodels.api as sm\n",
    "results = sm.OLS(final['UTR'], final[['STR', 'Turn20']]).fit()    \n",
    "final['UTR_resid']=results.resid    #取残差项作为中性化后的因子值\n",
    "final"
   ]
  },
  {
   "cell_type": "code",
   "execution_count": 10,
   "outputs": [
    {
     "data": {
      "text/plain": "                code    Turn20  PctTurn20       STR       date  score1  \\\n0        000001.XSHE  0.553360        NaN  0.214226 2020-02-06   314.0   \n1        000002.XSHE  0.813605        NaN  0.263091 2020-02-06   455.0   \n2        000004.XSHE  2.422650        NaN  0.953548 2020-02-06  1873.0   \n3        000005.XSHE  0.984995        NaN  0.409240 2020-02-06   861.0   \n4        000006.XSHE  0.761105        NaN  0.235302 2020-02-06   373.0   \n...              ...       ...        ...       ...        ...     ...   \n4155038  688799.XSHG  2.267325   0.385494  0.859976 2023-11-30  2966.0   \n4155039  688800.XSHG  2.292970   0.306996  1.545284 2023-11-30  3641.0   \n4155040  688819.XSHG  1.315320   0.300737  0.379709 2023-11-30  1795.0   \n4155041  688981.XSHG  1.173325  -0.304892  0.525994 2023-11-30  2285.0   \n4155042  689009.XSHG  0.969535   0.711786  0.423493 2023-11-30  1963.0   \n\n             tag1  score2     UTR    UTR_resid    UTR2.0  \n0        0.084545  1492.0  1806.0  1470.322576  0.311855  \n1        0.122509  1184.0  1639.0  1166.684298  0.432558  \n2        0.504308   367.0  2240.0   763.974719  2.136070  \n3        0.231826   975.0  1836.0  1227.063658  0.695281  \n4        0.100431  1253.0  1626.0  1188.586333  0.380278  \n...           ...     ...     ...          ...       ...  \n4155038  0.584664   729.0  3695.0  2326.881034  1.908293  \n4155039  0.717721   749.0  4390.0  2729.964262  2.937384  \n4155040  0.353834   476.0  2271.0  1526.094542  0.741698  \n4155041  0.450424   647.0  2932.0  2190.878540  0.930427  \n4155042  0.386951   991.0  2954.0  2346.160843  0.711932  \n\n[4155043 rows x 11 columns]",
      "text/html": "<div>\n<style scoped>\n    .dataframe tbody tr th:only-of-type {\n        vertical-align: middle;\n    }\n\n    .dataframe tbody tr th {\n        vertical-align: top;\n    }\n\n    .dataframe thead th {\n        text-align: right;\n    }\n</style>\n<table border=\"1\" class=\"dataframe\">\n  <thead>\n    <tr style=\"text-align: right;\">\n      <th></th>\n      <th>code</th>\n      <th>Turn20</th>\n      <th>PctTurn20</th>\n      <th>STR</th>\n      <th>date</th>\n      <th>score1</th>\n      <th>tag1</th>\n      <th>score2</th>\n      <th>UTR</th>\n      <th>UTR_resid</th>\n      <th>UTR2.0</th>\n    </tr>\n  </thead>\n  <tbody>\n    <tr>\n      <th>0</th>\n      <td>000001.XSHE</td>\n      <td>0.553360</td>\n      <td>NaN</td>\n      <td>0.214226</td>\n      <td>2020-02-06</td>\n      <td>314.0</td>\n      <td>0.084545</td>\n      <td>1492.0</td>\n      <td>1806.0</td>\n      <td>1470.322576</td>\n      <td>0.311855</td>\n    </tr>\n    <tr>\n      <th>1</th>\n      <td>000002.XSHE</td>\n      <td>0.813605</td>\n      <td>NaN</td>\n      <td>0.263091</td>\n      <td>2020-02-06</td>\n      <td>455.0</td>\n      <td>0.122509</td>\n      <td>1184.0</td>\n      <td>1639.0</td>\n      <td>1166.684298</td>\n      <td>0.432558</td>\n    </tr>\n    <tr>\n      <th>2</th>\n      <td>000004.XSHE</td>\n      <td>2.422650</td>\n      <td>NaN</td>\n      <td>0.953548</td>\n      <td>2020-02-06</td>\n      <td>1873.0</td>\n      <td>0.504308</td>\n      <td>367.0</td>\n      <td>2240.0</td>\n      <td>763.974719</td>\n      <td>2.136070</td>\n    </tr>\n    <tr>\n      <th>3</th>\n      <td>000005.XSHE</td>\n      <td>0.984995</td>\n      <td>NaN</td>\n      <td>0.409240</td>\n      <td>2020-02-06</td>\n      <td>861.0</td>\n      <td>0.231826</td>\n      <td>975.0</td>\n      <td>1836.0</td>\n      <td>1227.063658</td>\n      <td>0.695281</td>\n    </tr>\n    <tr>\n      <th>4</th>\n      <td>000006.XSHE</td>\n      <td>0.761105</td>\n      <td>NaN</td>\n      <td>0.235302</td>\n      <td>2020-02-06</td>\n      <td>373.0</td>\n      <td>0.100431</td>\n      <td>1253.0</td>\n      <td>1626.0</td>\n      <td>1188.586333</td>\n      <td>0.380278</td>\n    </tr>\n    <tr>\n      <th>...</th>\n      <td>...</td>\n      <td>...</td>\n      <td>...</td>\n      <td>...</td>\n      <td>...</td>\n      <td>...</td>\n      <td>...</td>\n      <td>...</td>\n      <td>...</td>\n      <td>...</td>\n      <td>...</td>\n    </tr>\n    <tr>\n      <th>4155038</th>\n      <td>688799.XSHG</td>\n      <td>2.267325</td>\n      <td>0.385494</td>\n      <td>0.859976</td>\n      <td>2023-11-30</td>\n      <td>2966.0</td>\n      <td>0.584664</td>\n      <td>729.0</td>\n      <td>3695.0</td>\n      <td>2326.881034</td>\n      <td>1.908293</td>\n    </tr>\n    <tr>\n      <th>4155039</th>\n      <td>688800.XSHG</td>\n      <td>2.292970</td>\n      <td>0.306996</td>\n      <td>1.545284</td>\n      <td>2023-11-30</td>\n      <td>3641.0</td>\n      <td>0.717721</td>\n      <td>749.0</td>\n      <td>4390.0</td>\n      <td>2729.964262</td>\n      <td>2.937384</td>\n    </tr>\n    <tr>\n      <th>4155040</th>\n      <td>688819.XSHG</td>\n      <td>1.315320</td>\n      <td>0.300737</td>\n      <td>0.379709</td>\n      <td>2023-11-30</td>\n      <td>1795.0</td>\n      <td>0.353834</td>\n      <td>476.0</td>\n      <td>2271.0</td>\n      <td>1526.094542</td>\n      <td>0.741698</td>\n    </tr>\n    <tr>\n      <th>4155041</th>\n      <td>688981.XSHG</td>\n      <td>1.173325</td>\n      <td>-0.304892</td>\n      <td>0.525994</td>\n      <td>2023-11-30</td>\n      <td>2285.0</td>\n      <td>0.450424</td>\n      <td>647.0</td>\n      <td>2932.0</td>\n      <td>2190.878540</td>\n      <td>0.930427</td>\n    </tr>\n    <tr>\n      <th>4155042</th>\n      <td>689009.XSHG</td>\n      <td>0.969535</td>\n      <td>0.711786</td>\n      <td>0.423493</td>\n      <td>2023-11-30</td>\n      <td>1963.0</td>\n      <td>0.386951</td>\n      <td>991.0</td>\n      <td>2954.0</td>\n      <td>2346.160843</td>\n      <td>0.711932</td>\n    </tr>\n  </tbody>\n</table>\n<p>4155043 rows × 11 columns</p>\n</div>"
     },
     "execution_count": 10,
     "metadata": {},
     "output_type": "execute_result"
    }
   ],
   "source": [
    "def softsign(x):\n",
    "    return x/(1+abs(x))\n",
    "\n",
    "final['UTR2.0'] = final['STR'] + final['STR'].transform(lambda x: softsign(x)) * final['Turn20']\n",
    "final"
   ],
   "metadata": {
    "collapsed": false,
    "pycharm": {
     "name": "#%%\n"
    }
   }
  },
  {
   "cell_type": "code",
   "execution_count": 11,
   "outputs": [],
   "source": [
    "def tanh(x):\n",
    "    return (np.exp(x) - np.exp(-x))/(np.exp(x) + np.exp(-x))\n",
    "\n",
    "final['UTR2.0_tanh'] = final['STR'] + final['STR'].transform(lambda x: tanh(x)) * final['Turn20']\n"
   ],
   "metadata": {
    "collapsed": false,
    "pycharm": {
     "name": "#%%\n"
    }
   }
  },
  {
   "cell_type": "code",
   "execution_count": 12,
   "outputs": [],
   "source": [
    "import statsmodels.api as sm\n",
    "result = sm.OLS(final['UTR2.0'],final[['Turn20','STR']]).fit()\n",
    "final['UTR2.0_resd'] = result.resid\n",
    "result = sm.OLS(final['UTR2.0_tanh'],final[['Turn20','STR']]).fit()\n",
    "final['UTR2.0_tanh_resd'] = result.resid"
   ],
   "metadata": {
    "collapsed": false,
    "pycharm": {
     "name": "#%%\n"
    }
   }
  },
  {
   "cell_type": "code",
   "execution_count": 13,
   "outputs": [
    {
     "data": {
      "text/plain": "                code    Turn20  PctTurn20       STR       date  score1  \\\n0        000001.XSHE  0.553360        NaN  0.214226 2020-02-06   314.0   \n1        000002.XSHE  0.813605        NaN  0.263091 2020-02-06   455.0   \n2        000004.XSHE  2.422650        NaN  0.953548 2020-02-06  1873.0   \n3        000005.XSHE  0.984995        NaN  0.409240 2020-02-06   861.0   \n4        000006.XSHE  0.761105        NaN  0.235302 2020-02-06   373.0   \n...              ...       ...        ...       ...        ...     ...   \n4155038  688799.XSHG  2.267325   0.385494  0.859976 2023-11-30  2966.0   \n4155039  688800.XSHG  2.292970   0.306996  1.545284 2023-11-30  3641.0   \n4155040  688819.XSHG  1.315320   0.300737  0.379709 2023-11-30  1795.0   \n4155041  688981.XSHG  1.173325  -0.304892  0.525994 2023-11-30  2285.0   \n4155042  689009.XSHG  0.969535   0.711786  0.423493 2023-11-30  1963.0   \n\n             tag1  score2     UTR    UTR_resid    UTR2.0  UTR2.0_tanh  \\\n0        0.084545  1492.0  1806.0  1470.322576  0.311855     0.330989   \n1        0.122509  1184.0  1639.0  1166.684298  0.432558     0.472338   \n2        0.504308   367.0  2240.0   763.974719  2.136070     2.749665   \n3        0.231826   975.0  1836.0  1227.063658  0.695281     0.791248   \n4        0.100431  1253.0  1626.0  1188.586333  0.380278     0.411157   \n...           ...     ...     ...          ...       ...          ...   \n4155038  0.584664   729.0  3695.0  2326.881034  1.908293     2.438590   \n4155039  0.717721   749.0  4390.0  2729.964262  2.937384     3.638774   \n4155040  0.353834   476.0  2271.0  1526.094542  0.741698     0.856454   \n4155041  0.450424   647.0  2932.0  2190.878540  0.930427     1.091905   \n4155042  0.386951   991.0  2954.0  2346.160843  0.711932     0.811180   \n\n         UTR2.0_resd  UTR2.0_tanh_resd  \n0          -0.335144         -0.410794  \n1          -0.455873         -0.560627  \n2          -0.715497         -0.515315  \n3          -0.490205         -0.560175  \n4          -0.437727         -0.543133  \n...              ...               ...  \n4155038    -0.721157         -0.581002  \n4155039    -0.540165         -0.165987  \n4155040    -0.639331         -0.762784  \n4155041    -0.528368         -0.560716  \n4155042    -0.479993         -0.542016  \n\n[4155043 rows x 14 columns]",
      "text/html": "<div>\n<style scoped>\n    .dataframe tbody tr th:only-of-type {\n        vertical-align: middle;\n    }\n\n    .dataframe tbody tr th {\n        vertical-align: top;\n    }\n\n    .dataframe thead th {\n        text-align: right;\n    }\n</style>\n<table border=\"1\" class=\"dataframe\">\n  <thead>\n    <tr style=\"text-align: right;\">\n      <th></th>\n      <th>code</th>\n      <th>Turn20</th>\n      <th>PctTurn20</th>\n      <th>STR</th>\n      <th>date</th>\n      <th>score1</th>\n      <th>tag1</th>\n      <th>score2</th>\n      <th>UTR</th>\n      <th>UTR_resid</th>\n      <th>UTR2.0</th>\n      <th>UTR2.0_tanh</th>\n      <th>UTR2.0_resd</th>\n      <th>UTR2.0_tanh_resd</th>\n    </tr>\n  </thead>\n  <tbody>\n    <tr>\n      <th>0</th>\n      <td>000001.XSHE</td>\n      <td>0.553360</td>\n      <td>NaN</td>\n      <td>0.214226</td>\n      <td>2020-02-06</td>\n      <td>314.0</td>\n      <td>0.084545</td>\n      <td>1492.0</td>\n      <td>1806.0</td>\n      <td>1470.322576</td>\n      <td>0.311855</td>\n      <td>0.330989</td>\n      <td>-0.335144</td>\n      <td>-0.410794</td>\n    </tr>\n    <tr>\n      <th>1</th>\n      <td>000002.XSHE</td>\n      <td>0.813605</td>\n      <td>NaN</td>\n      <td>0.263091</td>\n      <td>2020-02-06</td>\n      <td>455.0</td>\n      <td>0.122509</td>\n      <td>1184.0</td>\n      <td>1639.0</td>\n      <td>1166.684298</td>\n      <td>0.432558</td>\n      <td>0.472338</td>\n      <td>-0.455873</td>\n      <td>-0.560627</td>\n    </tr>\n    <tr>\n      <th>2</th>\n      <td>000004.XSHE</td>\n      <td>2.422650</td>\n      <td>NaN</td>\n      <td>0.953548</td>\n      <td>2020-02-06</td>\n      <td>1873.0</td>\n      <td>0.504308</td>\n      <td>367.0</td>\n      <td>2240.0</td>\n      <td>763.974719</td>\n      <td>2.136070</td>\n      <td>2.749665</td>\n      <td>-0.715497</td>\n      <td>-0.515315</td>\n    </tr>\n    <tr>\n      <th>3</th>\n      <td>000005.XSHE</td>\n      <td>0.984995</td>\n      <td>NaN</td>\n      <td>0.409240</td>\n      <td>2020-02-06</td>\n      <td>861.0</td>\n      <td>0.231826</td>\n      <td>975.0</td>\n      <td>1836.0</td>\n      <td>1227.063658</td>\n      <td>0.695281</td>\n      <td>0.791248</td>\n      <td>-0.490205</td>\n      <td>-0.560175</td>\n    </tr>\n    <tr>\n      <th>4</th>\n      <td>000006.XSHE</td>\n      <td>0.761105</td>\n      <td>NaN</td>\n      <td>0.235302</td>\n      <td>2020-02-06</td>\n      <td>373.0</td>\n      <td>0.100431</td>\n      <td>1253.0</td>\n      <td>1626.0</td>\n      <td>1188.586333</td>\n      <td>0.380278</td>\n      <td>0.411157</td>\n      <td>-0.437727</td>\n      <td>-0.543133</td>\n    </tr>\n    <tr>\n      <th>...</th>\n      <td>...</td>\n      <td>...</td>\n      <td>...</td>\n      <td>...</td>\n      <td>...</td>\n      <td>...</td>\n      <td>...</td>\n      <td>...</td>\n      <td>...</td>\n      <td>...</td>\n      <td>...</td>\n      <td>...</td>\n      <td>...</td>\n      <td>...</td>\n    </tr>\n    <tr>\n      <th>4155038</th>\n      <td>688799.XSHG</td>\n      <td>2.267325</td>\n      <td>0.385494</td>\n      <td>0.859976</td>\n      <td>2023-11-30</td>\n      <td>2966.0</td>\n      <td>0.584664</td>\n      <td>729.0</td>\n      <td>3695.0</td>\n      <td>2326.881034</td>\n      <td>1.908293</td>\n      <td>2.438590</td>\n      <td>-0.721157</td>\n      <td>-0.581002</td>\n    </tr>\n    <tr>\n      <th>4155039</th>\n      <td>688800.XSHG</td>\n      <td>2.292970</td>\n      <td>0.306996</td>\n      <td>1.545284</td>\n      <td>2023-11-30</td>\n      <td>3641.0</td>\n      <td>0.717721</td>\n      <td>749.0</td>\n      <td>4390.0</td>\n      <td>2729.964262</td>\n      <td>2.937384</td>\n      <td>3.638774</td>\n      <td>-0.540165</td>\n      <td>-0.165987</td>\n    </tr>\n    <tr>\n      <th>4155040</th>\n      <td>688819.XSHG</td>\n      <td>1.315320</td>\n      <td>0.300737</td>\n      <td>0.379709</td>\n      <td>2023-11-30</td>\n      <td>1795.0</td>\n      <td>0.353834</td>\n      <td>476.0</td>\n      <td>2271.0</td>\n      <td>1526.094542</td>\n      <td>0.741698</td>\n      <td>0.856454</td>\n      <td>-0.639331</td>\n      <td>-0.762784</td>\n    </tr>\n    <tr>\n      <th>4155041</th>\n      <td>688981.XSHG</td>\n      <td>1.173325</td>\n      <td>-0.304892</td>\n      <td>0.525994</td>\n      <td>2023-11-30</td>\n      <td>2285.0</td>\n      <td>0.450424</td>\n      <td>647.0</td>\n      <td>2932.0</td>\n      <td>2190.878540</td>\n      <td>0.930427</td>\n      <td>1.091905</td>\n      <td>-0.528368</td>\n      <td>-0.560716</td>\n    </tr>\n    <tr>\n      <th>4155042</th>\n      <td>689009.XSHG</td>\n      <td>0.969535</td>\n      <td>0.711786</td>\n      <td>0.423493</td>\n      <td>2023-11-30</td>\n      <td>1963.0</td>\n      <td>0.386951</td>\n      <td>991.0</td>\n      <td>2954.0</td>\n      <td>2346.160843</td>\n      <td>0.711932</td>\n      <td>0.811180</td>\n      <td>-0.479993</td>\n      <td>-0.542016</td>\n    </tr>\n  </tbody>\n</table>\n<p>4155043 rows × 14 columns</p>\n</div>"
     },
     "execution_count": 13,
     "metadata": {},
     "output_type": "execute_result"
    }
   ],
   "source": [
    "final"
   ],
   "metadata": {
    "collapsed": false,
    "pycharm": {
     "name": "#%%\n"
    }
   }
  },
  {
   "cell_type": "code",
   "execution_count": null,
   "outputs": [],
   "source": [],
   "metadata": {
    "collapsed": false,
    "pycharm": {
     "name": "#%%\n"
    }
   }
  },
  {
   "cell_type": "code",
   "execution_count": 14,
   "id": "df92539e",
   "metadata": {
    "pycharm": {
     "name": "#%%\n"
    }
   },
   "outputs": [],
   "source": [
    "#将日期列转换为datetime类型\n",
    "df = final\n",
    "df['date']=pd.to_datetime(df['date'])\n",
    "\n",
    "#保存文件夹路径\n",
    "output_folder='/Users/apple/quant_course/week1/week1_3/factor/UTR2.0'\n",
    "selected_columns=['code', 'UTR2.0','UTR2.0_resd','UTR2.0_tanh','UTR2.0_tanh_resd']\n",
    "\n",
    "os.makedirs(output_folder,exist_ok=True)\n",
    "\n",
    "#创建日期索引并检查是否在dateframe中存在\n",
    "date_index=pd.date_range(df['date'].min(),df['date'].max(),freq='D')\n",
    "existing_dates=[d for d in date_index if d in df['date'].values]\n",
    "\n",
    "#遍历每个日期如果它在dataframe中存在 则将其保存为单独的csv文件\n",
    "for date in existing_dates:\n",
    "    group=df.loc[df['date']==date,selected_columns]\n",
    "    filename=os.path.join(output_folder,f'{date.strftime(\"%Y-%m-%d\")}.csv')\n",
    "    group=group.sort_values(by='code',ascending=True)\n",
    "    group.to_csv(filename,index=False)"
   ]
  },
  {
   "cell_type": "code",
   "execution_count": null,
   "id": "b6bd14ef",
   "metadata": {
    "pycharm": {
     "name": "#%%\n"
    }
   },
   "outputs": [],
   "source": []
  }
 ],
 "metadata": {
  "kernelspec": {
   "display_name": "Python 3 (ipykernel)",
   "language": "python",
   "name": "python3"
  },
  "language_info": {
   "codemirror_mode": {
    "name": "ipython",
    "version": 3
   },
   "file_extension": ".py",
   "mimetype": "text/x-python",
   "name": "python",
   "nbconvert_exporter": "python",
   "pygments_lexer": "ipython3",
   "version": "3.9.16"
  }
 },
 "nbformat": 4,
 "nbformat_minor": 5
}